{
 "cells": [
  {
   "cell_type": "markdown",
   "id": "08beadd7",
   "metadata": {},
   "source": [
    "# 1) What is the difference between enclosing a list comprehension in square brackets and parentheses?\n"
   ]
  },
  {
   "cell_type": "markdown",
   "id": "66e39259",
   "metadata": {},
   "source": [
    "Enclosing a list comprehension in square bracket will gove a list whereas enclosing in paranthesis will give a generator"
   ]
  },
  {
   "cell_type": "markdown",
   "id": "505408c2",
   "metadata": {},
   "source": [
    "# 2) What is the relationship between generators and iterators?\n"
   ]
  },
  {
   "cell_type": "markdown",
   "id": "18d0e273",
   "metadata": {},
   "source": [
    "Generator is a function that yields a sequence of values. Generator uses the Yield keyword for implemention. Iterator is an object that can be iterated on. Iterator uses the class and can be implement ed used next keyword."
   ]
  },
  {
   "cell_type": "markdown",
   "id": "f58b0423",
   "metadata": {},
   "source": [
    "# 3) What are the signs that a function is a generator function?\n"
   ]
  },
  {
   "cell_type": "markdown",
   "id": "a41f91bc",
   "metadata": {},
   "source": [
    "A function is a generator function if it has the yield keyword instaed of return."
   ]
  },
  {
   "cell_type": "markdown",
   "id": "7506280c",
   "metadata": {},
   "source": [
    "# 4) What is the purpose of a yield statement?\n"
   ]
  },
  {
   "cell_type": "markdown",
   "id": "571f54c5",
   "metadata": {},
   "source": [
    "Yield statment is used to return a generator object which can be iterated over and over again. It is similar to return function but Yield would return a generator object rather than a value."
   ]
  },
  {
   "cell_type": "markdown",
   "id": "10114a7f",
   "metadata": {},
   "source": [
    "# 5) What is the relationship between map calls and list comprehensions? Make a comparison and contrast between the two.\n"
   ]
  },
  {
   "cell_type": "markdown",
   "id": "821382cf",
   "metadata": {},
   "source": [
    "Map and list comprehension are ways to create a new list from existing list. They both take a function and list as input and return a new list. The difference is that map function returns an object with an iterable whereaslist comprehenson returns a list.Map can be used with a filter function to create a new list with the elements that return true for the condition. We cannot use the filter function on list comprehension."
   ]
  },
  {
   "cell_type": "code",
   "execution_count": null,
   "id": "0162e0ac",
   "metadata": {},
   "outputs": [],
   "source": []
  },
  {
   "cell_type": "code",
   "execution_count": null,
   "id": "e726e1ed",
   "metadata": {},
   "outputs": [],
   "source": []
  },
  {
   "cell_type": "code",
   "execution_count": null,
   "id": "0653cbee",
   "metadata": {},
   "outputs": [],
   "source": []
  },
  {
   "cell_type": "code",
   "execution_count": null,
   "id": "1b0acc37",
   "metadata": {},
   "outputs": [],
   "source": []
  }
 ],
 "metadata": {
  "kernelspec": {
   "display_name": "Python 3 (ipykernel)",
   "language": "python",
   "name": "python3"
  },
  "language_info": {
   "codemirror_mode": {
    "name": "ipython",
    "version": 3
   },
   "file_extension": ".py",
   "mimetype": "text/x-python",
   "name": "python",
   "nbconvert_exporter": "python",
   "pygments_lexer": "ipython3",
   "version": "3.9.7"
  }
 },
 "nbformat": 4,
 "nbformat_minor": 5
}
