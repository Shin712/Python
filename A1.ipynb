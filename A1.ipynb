{
 "cells": [
  {
   "cell_type": "markdown",
   "id": "9d567cca",
   "metadata": {},
   "source": [
    "# 1. In the below elements which of them are values or an expression? eg:- values can be integer or string and expressions will be mathematical operators."
   ]
  },
  {
   "cell_type": "markdown",
   "id": "1c79fb42",
   "metadata": {},
   "source": [
    "* =expression\n",
    "'hello'=values\n",
    "-87.8=values\n",
    "- =Expression\n",
    "/ =Expression\n",
    "=Expression\n",
    "6 =Values"
   ]
  },
  {
   "cell_type": "markdown",
   "id": "d72a9608",
   "metadata": {},
   "source": [
    "# 2. What is the difference between string and variable?"
   ]
  },
  {
   "cell_type": "markdown",
   "id": "2349d525",
   "metadata": {},
   "source": [
    "A: String is a sequence of characters that can be assigned to a variable.  The  value of a variable can be changed with a different one.\n",
    "Example-a=’the word’\n",
    "Here a is the variable and ‘the word’ is the string\n"
   ]
  },
  {
   "cell_type": "markdown",
   "id": "558f2a23",
   "metadata": {},
   "source": [
    "# 3. Describe three different data types."
   ]
  },
  {
   "cell_type": "markdown",
   "id": "fcf356b7",
   "metadata": {},
   "source": [
    "A: String- String is a sequence of characters and is usually represented within”” or ‘’. For example “This word” is a string. The string data type is iterable which means we will be able to access each and every character in a string. String allows us to perform operations on it such as slicing,concat etc.\n",
    "Integer/float- Integers and float are numbers the major difference being float has decimal value whereas integer has number without decimal in both positive and negetive axes. They are used to perform arithmetic operations on data.\n",
    "Boolean- This data type has true or false value\n"
   ]
  },
  {
   "cell_type": "markdown",
   "id": "c8863744",
   "metadata": {},
   "source": [
    "# 4. What is an expression made up of? What do all expressions do?"
   ]
  },
  {
   "cell_type": "markdown",
   "id": "af6f895b",
   "metadata": {},
   "source": [
    "An expression may contain a operands and operator. Expression give a value or result when they are executed.\n",
    "for example: a=a+5\n"
   ]
  },
  {
   "cell_type": "markdown",
   "id": "dc1dfb1c",
   "metadata": {},
   "source": [
    "# 5. This assignment statements, like spam = 10. What is the difference between an expression and a statement? Describe three different data types."
   ]
  },
  {
   "cell_type": "markdown",
   "id": "0177076f",
   "metadata": {},
   "source": [
    "In the above assignment statement, 10 is assigned to spam. A statement would create variabes or have values assigned to it or is for displaying values. where as an expression will produce a result after being run. The 3 main types of data are numeric data, string data and boolean data. In numeric data type we have integer data type,float which holds decimal numbers and complex numbers which has a real and an imaginary part. String data is enclosed within\"\" or'' and is a sequence of characters. Boolean data has True value or a false value."
   ]
  },
  {
   "cell_type": "markdown",
   "id": "f8054d9b",
   "metadata": {},
   "source": [
    "# 6. After running the following code, what does the variable bacon contain?bacon = 22 bacon + 1"
   ]
  },
  {
   "cell_type": "markdown",
   "id": "e64b9f52",
   "metadata": {},
   "source": [
    "A:The value of bacon will be 22. As the result of bacon+1 is not assigned to anything."
   ]
  },
  {
   "cell_type": "markdown",
   "id": "fc28bc71",
   "metadata": {},
   "source": [
    "# 7. What should the values of the following two terms be?"
   ]
  },
  {
   "cell_type": "markdown",
   "id": "fe2fd831",
   "metadata": {},
   "source": [
    "'spam' + 'spamspam'=’spamspamspam’\n",
    "'spam' * 3=’spamspamspam’"
   ]
  },
  {
   "cell_type": "markdown",
   "id": "955a2874",
   "metadata": {},
   "source": [
    "# 8. Why is eggs a valid variable name while 100 is invalid?"
   ]
  },
  {
   "cell_type": "markdown",
   "id": "baf4df98",
   "metadata": {},
   "source": [
    "Eggs can be assigned different values such as string,bool etc whereas 100 is a constant value and cannot be changed hence eggs is valid variable name whereas 100 is invalid\n",
    "            "
   ]
  },
  {
   "cell_type": "markdown",
   "id": "154df91a",
   "metadata": {},
   "source": [
    "# 9. What three functions can be used to get the integer, floating-point number, or string version of a value?"
   ]
  },
  {
   "cell_type": "markdown",
   "id": "c8aca7b4",
   "metadata": {},
   "source": [
    "Int() function is used to get the integer version of a value\n",
    "float() function is used to get the float version of a value\n",
    "str() function is used to get the string version of a value\n"
   ]
  },
  {
   "cell_type": "markdown",
   "id": "1cb14de1",
   "metadata": {},
   "source": [
    "# 10. Why does this expression cause an error? How can you fix it? 'I have eaten ' + 99 + ' burritos.'"
   ]
  },
  {
   "cell_type": "markdown",
   "id": "5ea38d80",
   "metadata": {},
   "source": [
    "There is no ‘’ before and after 99. It is considered as an integer. If 99 has to be concatinated with the abive string then we have to use either ‘’ or “”. Hence the corrected string would be:\n",
    "'I have eaten ' + ‘99’ + ' burritos.'"
   ]
  },
  {
   "cell_type": "code",
   "execution_count": null,
   "id": "cee27235",
   "metadata": {},
   "outputs": [],
   "source": []
  }
 ],
 "metadata": {
  "kernelspec": {
   "display_name": "Python 3 (ipykernel)",
   "language": "python",
   "name": "python3"
  },
  "language_info": {
   "codemirror_mode": {
    "name": "ipython",
    "version": 3
   },
   "file_extension": ".py",
   "mimetype": "text/x-python",
   "name": "python",
   "nbconvert_exporter": "python",
   "pygments_lexer": "ipython3",
   "version": "3.9.7"
  }
 },
 "nbformat": 4,
 "nbformat_minor": 5
}
