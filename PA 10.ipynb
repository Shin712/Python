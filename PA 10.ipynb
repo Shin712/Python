{
 "cells": [
  {
   "cell_type": "markdown",
   "id": "207bafc3",
   "metadata": {},
   "source": [
    "# 1. Write a Python program to find sum of elements in list?"
   ]
  },
  {
   "cell_type": "code",
   "execution_count": 11,
   "id": "27d7c117",
   "metadata": {},
   "outputs": [
    {
     "name": "stdout",
     "output_type": "stream",
     "text": [
      "Enter the elements in thw list: 1 2 3 4 5 6 7 8 9 10\n",
      "55\n"
     ]
    }
   ],
   "source": [
    "L=input(\"Enter the elements in thw list: \")\n",
    "L=list(map(int,L.split()))\n",
    "def Sum_of_elements(m):\n",
    "    sum1=0\n",
    "    for i in m:\n",
    "        sum1=sum1+i\n",
    "    return sum1\n",
    "print(Sum_of_elements(L))\n"
   ]
  },
  {
   "cell_type": "code",
   "execution_count": 14,
   "id": "b90e324a",
   "metadata": {},
   "outputs": [
    {
     "name": "stdout",
     "output_type": "stream",
     "text": [
      "Enter the elements in the list: 1 2 3 4 5 6 7 8 9 10\n",
      "55\n"
     ]
    }
   ],
   "source": [
    "L=input(\"Enter the elements in the list: \")\n",
    "L=list(map(int,L.split()))\n",
    "print(sum(L))"
   ]
  },
  {
   "cell_type": "markdown",
   "id": "9574658b",
   "metadata": {},
   "source": [
    "# 2. Write a Python program to  Multiply all numbers in the list?"
   ]
  },
  {
   "cell_type": "code",
   "execution_count": 13,
   "id": "d5d64a07",
   "metadata": {},
   "outputs": [
    {
     "name": "stdout",
     "output_type": "stream",
     "text": [
      "Enter the elements in the list: 1 2 3 4 5 12\n",
      "1440\n"
     ]
    }
   ],
   "source": [
    "L=input(\"Enter the elements in the list: \")\n",
    "L=list(map(int,L.split()))\n",
    "def Mul_of_elements(x):\n",
    "    mul=1\n",
    "    for i in x:\n",
    "        mul*=i\n",
    "    return mul\n",
    "print(Mul_of_elements(L))"
   ]
  },
  {
   "cell_type": "code",
   "execution_count": 15,
   "id": "3a9ad602",
   "metadata": {},
   "outputs": [
    {
     "name": "stdout",
     "output_type": "stream",
     "text": [
      "Enter the elements in the list: 1 2 3 4 5 12\n",
      "1440\n"
     ]
    }
   ],
   "source": [
    "import math\n",
    "L=input(\"Enter the elements in the list: \")\n",
    "L=list(map(int,L.split()))\n",
    "print(math.prod(L))"
   ]
  },
  {
   "cell_type": "markdown",
   "id": "d47b87d5",
   "metadata": {},
   "source": [
    "# 3. Write a Python program to find smallest number in a list?"
   ]
  },
  {
   "cell_type": "code",
   "execution_count": 3,
   "id": "ea1fa8df",
   "metadata": {},
   "outputs": [
    {
     "name": "stdout",
     "output_type": "stream",
     "text": [
      "Enter the elements in the list25 63 1 89 2\n",
      "The smallest element in the list is:  1\n"
     ]
    }
   ],
   "source": [
    "L=input(\"Enter the elements in the list: \")\n",
    "L=list(map(int,L.split()))\n",
    "print(\"The smallest element in the list is: \",min(L))"
   ]
  },
  {
   "cell_type": "markdown",
   "id": "1a905535",
   "metadata": {},
   "source": [
    "# 4. Write a Python program to find largest number in a list?"
   ]
  },
  {
   "cell_type": "code",
   "execution_count": 17,
   "id": "972497da",
   "metadata": {},
   "outputs": [
    {
     "name": "stdout",
     "output_type": "stream",
     "text": [
      "Enter the elements in the list11 89 17 56 36 105\n",
      "The Max element in the list is:  105\n"
     ]
    }
   ],
   "source": [
    "L=input(\"Enter the elements in the list:\")\n",
    "L=list(map(int,L.split()))\n",
    "print(\"The largest element in the list is: \",max(L))"
   ]
  },
  {
   "cell_type": "markdown",
   "id": "a6710908",
   "metadata": {},
   "source": [
    "# 5. Write a Python program to find second largest number in a list?"
   ]
  },
  {
   "cell_type": "code",
   "execution_count": 18,
   "id": "3538855d",
   "metadata": {},
   "outputs": [
    {
     "name": "stdout",
     "output_type": "stream",
     "text": [
      "Enter the elements in the list:   1 5 8 18 96 47 52  \n",
      "The second largest element is:  52\n"
     ]
    }
   ],
   "source": [
    "L=input(\"Enter the elements in the list: \")\n",
    "L=list(map(int,L.split()))\n",
    "L.sort()\n",
    "print(\"The second largest element is: \", L[-2])"
   ]
  },
  {
   "cell_type": "markdown",
   "id": "f09de902",
   "metadata": {},
   "source": [
    "# 6. Write a Python program to find N largest elements from a list?"
   ]
  },
  {
   "cell_type": "code",
   "execution_count": 21,
   "id": "2b201a3b",
   "metadata": {},
   "outputs": [
    {
     "name": "stdout",
     "output_type": "stream",
     "text": [
      "Enter the elements in the list: 45 96 32 788 96 145 259\n",
      "Enter the value of N to display the n largest elements: 4\n",
      "788\n",
      "259\n",
      "145\n",
      "96\n"
     ]
    }
   ],
   "source": [
    "L=input(\"Enter the elements in the list: \")\n",
    "L=list(map(int,L.split()))\n",
    "N=int(input(\"Enter the value of N to display the n largest elements: \"))\n",
    "L.sort(reverse=True)\n",
    "for i in range(N):\n",
    "    print(L[i])"
   ]
  },
  {
   "cell_type": "markdown",
   "id": "163db07a",
   "metadata": {},
   "source": [
    "# 7. Write a Python program to print even numbers in a list?"
   ]
  },
  {
   "cell_type": "code",
   "execution_count": 23,
   "id": "ab229d10",
   "metadata": {},
   "outputs": [
    {
     "name": "stdout",
     "output_type": "stream",
     "text": [
      "Enter the elements of the list: 1 2 3 4 5 6 7 8 915 46 28\n"
     ]
    },
    {
     "data": {
      "text/plain": [
       "[2, 4, 6, 8, 46, 28]"
      ]
     },
     "execution_count": 23,
     "metadata": {},
     "output_type": "execute_result"
    }
   ],
   "source": [
    "L=input(\"Enter the elements of the list: \")\n",
    "L=list(map(int,L.split()))\n",
    "[i for i in L if(i%2==0) ]"
   ]
  },
  {
   "cell_type": "markdown",
   "id": "4e8939df",
   "metadata": {},
   "source": [
    "# 8. Write a Python program to print odd numbers in a List?"
   ]
  },
  {
   "cell_type": "code",
   "execution_count": 25,
   "id": "f0d39e5b",
   "metadata": {},
   "outputs": [
    {
     "name": "stdout",
     "output_type": "stream",
     "text": [
      "ENter the elements in the list: 1 2 3 4 5 6 7 8 945 9 85 49 7264 254\n"
     ]
    },
    {
     "data": {
      "text/plain": [
       "[1, 3, 5, 7, 945, 9, 85, 49]"
      ]
     },
     "execution_count": 25,
     "metadata": {},
     "output_type": "execute_result"
    }
   ],
   "source": [
    "L=input(\"ENter the elements in the list: \")\n",
    "L=list(map(int,L.split()))\n",
    "[i for i  in L if(i%2!=0)]"
   ]
  },
  {
   "cell_type": "markdown",
   "id": "090c7191",
   "metadata": {},
   "source": [
    "# 9. Write a Python program to Remove empty List from List?"
   ]
  },
  {
   "cell_type": "code",
   "execution_count": 6,
   "id": "d6242931",
   "metadata": {},
   "outputs": [
    {
     "name": "stdout",
     "output_type": "stream",
     "text": [
      "Enter the elements in the list: a b c d e f g []\n",
      "['a', 'b', 'c', 'd', 'e', 'f', 'g']\n"
     ]
    }
   ],
   "source": [
    "L=input(\"Enter the elements in the list: \")\n",
    "L=list(L.split())\n",
    "L.remove('[]')\n",
    "print(L)"
   ]
  },
  {
   "cell_type": "markdown",
   "id": "6ce13801",
   "metadata": {},
   "source": [
    "# 10. Write a Python program to Cloning or Copying a list?"
   ]
  },
  {
   "cell_type": "code",
   "execution_count": 4,
   "id": "d70f6da3",
   "metadata": {},
   "outputs": [
    {
     "name": "stdout",
     "output_type": "stream",
     "text": [
      "[12, 2, 3, 5, 56]\n"
     ]
    }
   ],
   "source": [
    "import copy\n",
    "X=[12,2,3,5,56]\n",
    "x1=list()\n",
    "x1=copy.deepcopy(X)\n",
    "print(x1)\n",
    "#X.append(7)\n",
    "#print(X,x1)"
   ]
  },
  {
   "cell_type": "markdown",
   "id": "ff1b1a41",
   "metadata": {},
   "source": [
    "# 11. Write a Python program to Count occurrences of an element in a list?"
   ]
  },
  {
   "cell_type": "code",
   "execution_count": 3,
   "id": "57779e57",
   "metadata": {},
   "outputs": [
    {
     "name": "stdout",
     "output_type": "stream",
     "text": [
      "Enter the elements in the list: 1 2 3 4 a b c c e 1\n",
      "Enter the element to find occurance: 1\n"
     ]
    },
    {
     "data": {
      "text/plain": [
       "2"
      ]
     },
     "execution_count": 3,
     "metadata": {},
     "output_type": "execute_result"
    }
   ],
   "source": [
    "L=input(\"Enter the elements in the list: \")\n",
    "L=list(L.split())\n",
    "E=input(\"Enter the element to find occurence: \")\n",
    "L.count(E)"
   ]
  },
  {
   "cell_type": "code",
   "execution_count": 9,
   "id": "90e0b1f7",
   "metadata": {},
   "outputs": [
    {
     "name": "stdout",
     "output_type": "stream",
     "text": [
      "Enter the elements in the list: 1 2 3 a b a c 1 a\n",
      "Enter the element to find occurence: 1\n",
      "2\n"
     ]
    }
   ],
   "source": [
    "L=input(\"Enter the elements in the list: \")\n",
    "L=list(L.split())\n",
    "count=0\n",
    "E=input(\"Enter the element to find occurence: \")\n",
    "for i in L:\n",
    "    if(i==E):\n",
    "        count+=1\n",
    "print(count)"
   ]
  },
  {
   "cell_type": "code",
   "execution_count": null,
   "id": "34852806",
   "metadata": {},
   "outputs": [],
   "source": []
  },
  {
   "cell_type": "code",
   "execution_count": null,
   "id": "1a5725b4",
   "metadata": {},
   "outputs": [],
   "source": []
  },
  {
   "cell_type": "code",
   "execution_count": null,
   "id": "1bf70fdf",
   "metadata": {},
   "outputs": [],
   "source": []
  }
 ],
 "metadata": {
  "kernelspec": {
   "display_name": "Python 3 (ipykernel)",
   "language": "python",
   "name": "python3"
  },
  "language_info": {
   "codemirror_mode": {
    "name": "ipython",
    "version": 3
   },
   "file_extension": ".py",
   "mimetype": "text/x-python",
   "name": "python",
   "nbconvert_exporter": "python",
   "pygments_lexer": "ipython3",
   "version": "3.9.7"
  }
 },
 "nbformat": 4,
 "nbformat_minor": 5
}
