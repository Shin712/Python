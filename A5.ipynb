{
 "cells": [
  {
   "cell_type": "markdown",
   "id": "ed226639",
   "metadata": {},
   "source": [
    "# 1. What does an empty dictionary's code look like?\n"
   ]
  },
  {
   "cell_type": "markdown",
   "id": "8dab1a63",
   "metadata": {},
   "source": [
    "A dictionary can be declared using dict() or by using {}.\n",
    "for example: a={} \n",
    "             a=dict()\n",
    "will both create an empty dictionary"
   ]
  },
  {
   "cell_type": "markdown",
   "id": "e89fcfc4",
   "metadata": {},
   "source": [
    "# 2. What is the value of a dictionary value with the key 'foo' and the value 42?\n"
   ]
  },
  {
   "cell_type": "markdown",
   "id": "8bfc56a5",
   "metadata": {},
   "source": [
    "{‘foo’:42}\n"
   ]
  },
  {
   "cell_type": "markdown",
   "id": "f3c2438c",
   "metadata": {},
   "source": [
    "# 3. What is the most significant distinction between a dictionary and a list?\n"
   ]
  },
  {
   "cell_type": "markdown",
   "id": "cc677ca0",
   "metadata": {},
   "source": [
    "Dictionaries come with a key value pair . whereas a list element can be accessed through index.\n"
   ]
  },
  {
   "cell_type": "markdown",
   "id": "7e6660ff",
   "metadata": {},
   "source": [
    "# 4. What happens if you try to access spam['foo'] if spam is {'bar': 100}?\n"
   ]
  },
  {
   "cell_type": "markdown",
   "id": "c77efe0d",
   "metadata": {},
   "source": [
    "we get a key error as it is an invalid key which doesn’t exist\n"
   ]
  },
  {
   "cell_type": "markdown",
   "id": "c31dafe0",
   "metadata": {},
   "source": [
    "# 5. If a dictionary is stored in spam, what is the difference between the expressions 'cat' in spam and 'cat' in spam.keys()?\n"
   ]
  },
  {
   "cell_type": "markdown",
   "id": "e8ba8225",
   "metadata": {},
   "source": [
    "By default  ‘cat’ in spam would refer to ‘cat’ in spam.keys(). If we have to refer to the values then we have to write ‘cat in spam.values()\n"
   ]
  },
  {
   "cell_type": "markdown",
   "id": "0129b0c0",
   "metadata": {},
   "source": [
    "# 6. If a dictionary is stored in spam, what is the difference between the expressions 'cat' in spam and 'cat' in spam.values()?\n"
   ]
  },
  {
   "cell_type": "markdown",
   "id": "d18bf698",
   "metadata": {},
   "source": [
    "‘cat’ in spam would check the keys by default. Where as ‘cat’ in spam.values() would check the values\n"
   ]
  },
  {
   "cell_type": "markdown",
   "id": "ac65f0ac",
   "metadata": {},
   "source": [
    "# 7. What is a shortcut for the following code?if 'color' not in spam: spam['color'] = 'black'\n",
    "\n"
   ]
  },
  {
   "cell_type": "markdown",
   "id": "253d98c4",
   "metadata": {},
   "source": [
    "In the above question, the if statement would check if color(key) is in dictionary and if it is not in the dictionary it would add the value(and key) to the dictionary. The same can be achieved using \n",
    "spam.setdefault('color','black')"
   ]
  },
  {
   "cell_type": "markdown",
   "id": "0ec726db",
   "metadata": {},
   "source": [
    "# 8. How do you \"pretty print\" dictionary values using which module and function?\n"
   ]
  },
  {
   "cell_type": "markdown",
   "id": "d59e48ef",
   "metadata": {},
   "source": [
    "In pretty print we give a data like dictionary as input to the interpreter and we get a string of readable data as output.We use the pprint module and inside that we use the pprint function\n",
    "Example: import pprint\n",
    "dic=dict()\n",
    "dic={'name':'[A,B,C]','Place':'[Delhi,chennai,Mumbai]','Rollnum':'[1,2,3]'}\n",
    "pprint.pprint(dic,width=1)"
   ]
  },
  {
   "cell_type": "code",
   "execution_count": 8,
   "id": "40005448",
   "metadata": {},
   "outputs": [
    {
     "name": "stdout",
     "output_type": "stream",
     "text": [
      "{'Place': '[Delhi,chennai,Mumbai]',\n",
      " 'Rollnum': '[1,2,3]',\n",
      " 'name': '[A,B,C]'}\n"
     ]
    }
   ],
   "source": []
  },
  {
   "cell_type": "code",
   "execution_count": null,
   "id": "e06aef97",
   "metadata": {},
   "outputs": [],
   "source": []
  }
 ],
 "metadata": {
  "kernelspec": {
   "display_name": "Python 3 (ipykernel)",
   "language": "python",
   "name": "python3"
  },
  "language_info": {
   "codemirror_mode": {
    "name": "ipython",
    "version": 3
   },
   "file_extension": ".py",
   "mimetype": "text/x-python",
   "name": "python",
   "nbconvert_exporter": "python",
   "pygments_lexer": "ipython3",
   "version": "3.9.7"
  }
 },
 "nbformat": 4,
 "nbformat_minor": 5
}
