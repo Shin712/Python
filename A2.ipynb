{
 "cells": [
  {
   "cell_type": "markdown",
   "id": "7febdda8",
   "metadata": {},
   "source": [
    "# 1.What are the two values of the Boolean data type? How do you write them?"
   ]
  },
  {
   "cell_type": "markdown",
   "id": "c54ace38",
   "metadata": {},
   "source": [
    "The 2 boolean values are False which can also be represented by a 0 and True which is also represented by a 1\n"
   ]
  },
  {
   "cell_type": "markdown",
   "id": "f3ef8200",
   "metadata": {},
   "source": [
    "# 2. What are the three different types of Boolean operators?\n",
    "    "
   ]
  },
  {
   "cell_type": "markdown",
   "id": "5b06a28d",
   "metadata": {},
   "source": [
    "AND,OR,NOT are the 3 boolean operators\n"
   ]
  },
  {
   "cell_type": "markdown",
   "id": "6f5970be",
   "metadata": {},
   "source": [
    "# 3. Make a list of each Boolean operator's truth tables (i.e. every possible combination of Boolean values for the operator and what it evaluate ).\n"
   ]
  },
  {
   "cell_type": "markdown",
   "id": "7e5c0931",
   "metadata": {},
   "source": [
    "AND:\n",
    "0 0 ->  0\n",
    "0 1 ->  0\n",
    "1 0 ->  0\n",
    "1 1 ->  1\n",
    "OR:\n",
    "0 0 ->  0\n",
    "0 1 ->  1\n",
    "1 0 ->  1\n",
    "1 1 ->  1\n",
    "NOT\n",
    "0 -> 1\n",
    "1 -> 0\n"
   ]
  },
  {
   "cell_type": "markdown",
   "id": "ab4d4d3e",
   "metadata": {},
   "source": [
    "# 4. What are the values of the following expressions?\n"
   ]
  },
  {
   "cell_type": "markdown",
   "id": "9ea6f655",
   "metadata": {},
   "source": [
    "(5 > 4) and (3 == 5)-->False\n",
    "not (5 > 4)-->False\n",
    "(5 > 4) or (3 == 5)-->True\n",
    "not ((5 > 4) or (3 == 5))-->False\n",
    "(True and True) and (True == False)-->False\n",
    "(not False) or (not True)-->True\n"
   ]
  },
  {
   "cell_type": "markdown",
   "id": "97da0a43",
   "metadata": {},
   "source": [
    "# 5. What are the six comparison operators?\n"
   ]
  },
  {
   "cell_type": "raw",
   "id": "c3007233",
   "metadata": {},
   "source": [
    "The 6 comparision operators are: \n",
    "== Used to check if 2 operands are equal\n",
    "!= Used to check if 2 operands are not equal to each other\n",
    "< Used to check if the operand on the left hand side is lesser than the one on the right hand side\n",
    "<=Used to check if the operand on the left hand side is lesser than or equal to the one on the right hand side\n",
    "> Used to check if the operand on the left hand side is greater than the one on the right hand side\n",
    ">= Used to check if the operand on the left hand side is greater than or equal to the one on the right hand side\n"
   ]
  },
  {
   "cell_type": "markdown",
   "id": "7773f30d",
   "metadata": {},
   "source": [
    "# 6. How do you tell the difference between the equal to and assignment operators?Describe a condition and when you would use one.\n"
   ]
  },
  {
   "cell_type": "markdown",
   "id": "2a60e403",
   "metadata": {},
   "source": [
    "To check if 2 operands are equal in a condition we use ==\n",
    "To assign a value/variable to an operand we use =\n"
   ]
  },
  {
   "cell_type": "markdown",
   "id": "a9cb3dfc",
   "metadata": {},
   "source": [
    "# 7. Identify the three blocks in this code:\n"
   ]
  },
  {
   "cell_type": "markdown",
   "id": "6c4b96a8",
   "metadata": {},
   "source": [
    "spam = 0\n",
    "if spam == 10:->1st block\n",
    "print('eggs')\n",
    "if spam > 5:->2nd block\n",
    "print('bacon')\n",
    "else:->3rd block\n",
    "print('ham')\n",
    "print('spam')\n",
    "print('spam')\n"
   ]
  },
  {
   "cell_type": "markdown",
   "id": "c74f2bf5",
   "metadata": {},
   "source": [
    "# 8. Write code that prints Hello if 1 is stored in spam, prints Howdy if 2 is stored in spam, and prints Greetings! if anything else is stored in spam.\n"
   ]
  },
  {
   "cell_type": "markdown",
   "id": "9d3c7607",
   "metadata": {},
   "source": [
    "spam=input(\"Enter the value of spam: \")\n",
    "if(spam=='1'):\n",
    "    print(\"Hello\")\n",
    "elif(spam=='2'):\n",
    "    print(\"Howdy\")\n",
    "else:\n",
    "    print(\"Greetings!\")\n"
   ]
  },
  {
   "cell_type": "markdown",
   "id": "326fe2ca",
   "metadata": {},
   "source": [
    "# 9.If your programme is stuck in an endless loop, what keys you’ll press?\n"
   ]
  },
  {
   "cell_type": "markdown",
   "id": "7b2e13a4",
   "metadata": {},
   "source": [
    "Esc+i+i is used to interrupt the kernel in such case\n"
   ]
  },
  {
   "cell_type": "markdown",
   "id": "7f21326f",
   "metadata": {},
   "source": [
    "# 10. How can you tell the difference between break and continue?\n"
   ]
  },
  {
   "cell_type": "markdown",
   "id": "fde1269e",
   "metadata": {},
   "source": [
    "Break statement will terminate from the process of the loop completely whereas continue is used to to skip the current iteration.\n"
   ]
  },
  {
   "cell_type": "markdown",
   "id": "fad48e96",
   "metadata": {},
   "source": [
    "# 11. In a for loop, what is the difference between range(10), range(0, 10), and range(0, 10, 1)?\n"
   ]
  },
  {
   "cell_type": "markdown",
   "id": "7c5fe143",
   "metadata": {},
   "source": [
    "The range() function can be defined as range(starting value,ending value,step).\n",
    "By default the starting value is 0 and can be changed. The ending value has to be mentioned which excludes the value which is mentioned and executes until the previous value. For example, range(0,10) will have values from 0 to 9. The step value by default is 1 and can be changed. So all the 3 mentioned above will give the same result.\n"
   ]
  },
  {
   "cell_type": "markdown",
   "id": "3a07c90d",
   "metadata": {},
   "source": [
    "# 12. Write a short program that prints the numbers 1 to 10 using a for loop. Then write an equivalent program that prints the numbers 1 to 10 using a while loop.\n"
   ]
  },
  {
   "cell_type": "markdown",
   "id": "eeabfa39",
   "metadata": {},
   "source": [
    "For loop:\n",
    "for i in range(11):\n",
    "    print(i)\n",
    "While loop:\n",
    "i=0\n",
    "while(i<=10):\n",
    "    print(i)\n",
    "    i=i+1\n"
   ]
  },
  {
   "cell_type": "markdown",
   "id": "7d727363",
   "metadata": {},
   "source": [
    "# 13. If you had a function named bacon() inside a module named spam, how would you call it after importing spam?\n"
   ]
  },
  {
   "cell_type": "markdown",
   "id": "4c9083ed",
   "metadata": {},
   "source": [
    "spam.bacon()"
   ]
  },
  {
   "cell_type": "code",
   "execution_count": null,
   "id": "6c1777cf",
   "metadata": {},
   "outputs": [],
   "source": []
  },
  {
   "cell_type": "code",
   "execution_count": null,
   "id": "ec04c956",
   "metadata": {},
   "outputs": [],
   "source": []
  },
  {
   "cell_type": "code",
   "execution_count": null,
   "id": "8d257513",
   "metadata": {},
   "outputs": [],
   "source": []
  },
  {
   "cell_type": "code",
   "execution_count": null,
   "id": "b5dd43f8",
   "metadata": {},
   "outputs": [],
   "source": []
  },
  {
   "cell_type": "code",
   "execution_count": null,
   "id": "051d8c83",
   "metadata": {},
   "outputs": [],
   "source": []
  },
  {
   "cell_type": "code",
   "execution_count": null,
   "id": "53a8bd9e",
   "metadata": {},
   "outputs": [],
   "source": []
  },
  {
   "cell_type": "code",
   "execution_count": null,
   "id": "f492cb7c",
   "metadata": {},
   "outputs": [],
   "source": []
  },
  {
   "cell_type": "code",
   "execution_count": null,
   "id": "b26fb1ba",
   "metadata": {},
   "outputs": [],
   "source": []
  },
  {
   "cell_type": "code",
   "execution_count": null,
   "id": "4cd041fb",
   "metadata": {},
   "outputs": [],
   "source": []
  },
  {
   "cell_type": "code",
   "execution_count": null,
   "id": "c207a6e1",
   "metadata": {},
   "outputs": [],
   "source": []
  },
  {
   "cell_type": "code",
   "execution_count": null,
   "id": "08859350",
   "metadata": {},
   "outputs": [],
   "source": []
  },
  {
   "cell_type": "code",
   "execution_count": null,
   "id": "8838ae0b",
   "metadata": {},
   "outputs": [],
   "source": []
  }
 ],
 "metadata": {
  "kernelspec": {
   "display_name": "Python 3 (ipykernel)",
   "language": "python",
   "name": "python3"
  },
  "language_info": {
   "codemirror_mode": {
    "name": "ipython",
    "version": 3
   },
   "file_extension": ".py",
   "mimetype": "text/x-python",
   "name": "python",
   "nbconvert_exporter": "python",
   "pygments_lexer": "ipython3",
   "version": "3.9.7"
  }
 },
 "nbformat": 4,
 "nbformat_minor": 5
}
