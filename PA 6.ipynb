{
 "cells": [
  {
   "cell_type": "markdown",
   "id": "96638fba",
   "metadata": {},
   "source": [
    "# 1. Write a Python Program to Display Fibonacci Sequence Using Recursion?"
   ]
  },
  {
   "cell_type": "code",
   "execution_count": 13,
   "id": "c79012c2",
   "metadata": {},
   "outputs": [
    {
     "name": "stdout",
     "output_type": "stream",
     "text": [
      "Enter the limit for fibonacci series: 10\n",
      "0\n",
      "1\n",
      "1\n",
      "2\n",
      "3\n",
      "5\n",
      "8\n",
      "13\n",
      "21\n",
      "34\n",
      "55\n"
     ]
    }
   ],
   "source": [
    "def fibon(n):\n",
    "    if(n==1 or n==0):\n",
    "        return n\n",
    "    else:\n",
    "        return fibon(n-1)+fibon(n-2)\n",
    "Num=int(input(\"Enter the limit for fibonacci series: \"))\n",
    "for i in range(Num+1):\n",
    "    print(fibon(i))"
   ]
  },
  {
   "cell_type": "markdown",
   "id": "a871eea9",
   "metadata": {},
   "source": [
    "# 2. Write a Python Program to Find Factorial of Number Using Recursion?"
   ]
  },
  {
   "cell_type": "code",
   "execution_count": 1,
   "id": "21ee425b",
   "metadata": {},
   "outputs": [
    {
     "name": "stdout",
     "output_type": "stream",
     "text": [
      "Enter the number for which you want to find the factorial: 5\n"
     ]
    },
    {
     "data": {
      "text/plain": [
       "120"
      ]
     },
     "execution_count": 1,
     "metadata": {},
     "output_type": "execute_result"
    }
   ],
   "source": [
    "def fact(n1):\n",
    "    if(n1==0):\n",
    "        return 1\n",
    "    elif(n1==1):\n",
    "        return 1\n",
    "    else:\n",
    "        return n1*(fact(n1-1))\n",
    "Num1=int(input(\"Enter the number for which you want to find the factorial: \"))\n",
    "fact(Num1)\n",
    "    "
   ]
  },
  {
   "cell_type": "markdown",
   "id": "63590de9",
   "metadata": {},
   "source": [
    "# 3. Write a Python Program to calculate your Body Mass Index?"
   ]
  },
  {
   "cell_type": "code",
   "execution_count": 9,
   "id": "cae0facf",
   "metadata": {},
   "outputs": [
    {
     "name": "stdout",
     "output_type": "stream",
     "text": [
      "Enter the weight in kgs: 61\n",
      "Enter the height in meters: 1.61\n",
      "The BMI is: 23.533042706685695  and is normal\n"
     ]
    }
   ],
   "source": [
    "Weight=float(input(\"Enter the weight in kgs: \"))\n",
    "Height=float(input(\"Enter the height in meters: \"))\n",
    "#BMI=(Weight*702)/pow(Height,2)\n",
    "BMI=Weight/(Height*Height)\n",
    "if(BMI<18.5):\n",
    "        print(\"The BMI is:\",BMI,\" and is under weight\")\n",
    "elif(BMI>=18.5 and BMI<25):\n",
    "        print(\"The BMI is:\",BMI,\" and is normal\")\n",
    "elif(BMI>=25 and BMI<29):\n",
    "        print(\"The BMI is:\",BMI,\" and is over weight\")\n",
    "else:\n",
    "    print(\"The BMI is:\",BMI,\" and is obese\")"
   ]
  },
  {
   "cell_type": "markdown",
   "id": "f449c8e2",
   "metadata": {},
   "source": [
    "# 4. Write a Python Program to calculate the natural logarithm of any number?"
   ]
  },
  {
   "cell_type": "code",
   "execution_count": 10,
   "id": "8f6fa6ea",
   "metadata": {},
   "outputs": [
    {
     "name": "stdout",
     "output_type": "stream",
     "text": [
      "Enter the number for which you want to find the natural log: 10\n",
      "2.302585092994046\n"
     ]
    }
   ],
   "source": [
    "import math\n",
    "Num_2=int(input(\"Enter the number for which you want to find the natural log: \"))\n",
    "Natural_log=math.log(Num_2)\n",
    "print(Natural_log)"
   ]
  },
  {
   "cell_type": "markdown",
   "id": "7d0939b6",
   "metadata": {},
   "source": [
    "# 5. Write a Python Program for cube sum of first n natural numbers?"
   ]
  },
  {
   "cell_type": "code",
   "execution_count": 8,
   "id": "7414cfbe",
   "metadata": {},
   "outputs": [
    {
     "name": "stdout",
     "output_type": "stream",
     "text": [
      "Enter the first n natural numbers for which you need to find the sum of cubes: 10\n",
      "3025.0\n"
     ]
    }
   ],
   "source": [
    "import math\n",
    "Num_1=int(input(\"Enter the first n natural numbers for which you need to find the sum of cubes: \"))\n",
    "Sum_of_cubes=math.pow(((Num_1*(Num_1+1))/2),2)\n",
    "print(Sum_of_cubes)"
   ]
  },
  {
   "cell_type": "code",
   "execution_count": null,
   "id": "2327c20b",
   "metadata": {},
   "outputs": [],
   "source": []
  }
 ],
 "metadata": {
  "kernelspec": {
   "display_name": "Python 3 (ipykernel)",
   "language": "python",
   "name": "python3"
  },
  "language_info": {
   "codemirror_mode": {
    "name": "ipython",
    "version": 3
   },
   "file_extension": ".py",
   "mimetype": "text/x-python",
   "name": "python",
   "nbconvert_exporter": "python",
   "pygments_lexer": "ipython3",
   "version": "3.9.7"
  }
 },
 "nbformat": 4,
 "nbformat_minor": 5
}
