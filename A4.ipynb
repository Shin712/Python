{
 "cells": [
  {
   "cell_type": "markdown",
   "id": "43235a98",
   "metadata": {},
   "source": [
    "# 1. What exactly is []?"
   ]
  },
  {
   "cell_type": "markdown",
   "id": "52aa9dca",
   "metadata": {},
   "source": [
    "This refers to empty list. Values can be assigned to the above list\n"
   ]
  },
  {
   "cell_type": "markdown",
   "id": "aa0e4c0e",
   "metadata": {},
   "source": [
    "# 2. In a list of values stored in a variable called spam, how would you assign the value 'hello' as the third value? (Assume [2, 4, 6, 8, 10] are in spam.)\n"
   ]
  },
  {
   "cell_type": "markdown",
   "id": "4411114d",
   "metadata": {},
   "source": [
    "Using the function insert, spam.insert(2,’hello’).Now the new value of spam would be [2,4,’hello’,6,8,10] In the above statement when hello ws inserted the rest of the values were moved to the next position.\n",
    "Alternatively if we want to replace the third value to 'hello' then we have to use spam[2] = 'hello'"
   ]
  },
  {
   "cell_type": "markdown",
   "id": "812ec56b",
   "metadata": {},
   "source": [
    "# Let's pretend the spam includes the list ['a', 'b', 'c', 'd'] for the next three queries. 3. What is the value of spam[int(int('3' * 2) / 11)]?"
   ]
  },
  {
   "cell_type": "markdown",
   "id": "fb323dad",
   "metadata": {},
   "source": [
    "‘3’*2 would be 33 which is type casted to int and divided by 11 would give 3.0. Again the float value is typecasted to int. The 3rd position in the list is 'd'.\n"
   ]
  },
  {
   "cell_type": "markdown",
   "id": "9411e239",
   "metadata": {},
   "source": [
    "# 4. What is the value of spam[-1]?\n"
   ]
  },
  {
   "cell_type": "markdown",
   "id": "8283c098",
   "metadata": {},
   "source": [
    "Spam[-1] would give the last item in the list. Which is 'd'.\n"
   ]
  },
  {
   "cell_type": "markdown",
   "id": "0c165747",
   "metadata": {},
   "source": [
    "# 5. What is the value of spam[:2]?\n"
   ]
  },
  {
   "cell_type": "markdown",
   "id": "1b5dc059",
   "metadata": {},
   "source": [
    "It would give the items from with index 0 to 2 excluding 2. By default the starting value is 0. [‘a’,’b’] is the result\n"
   ]
  },
  {
   "cell_type": "markdown",
   "id": "6df99a6c",
   "metadata": {},
   "source": [
    "# Let's pretend bacon has the list [3.14, 'cat,' 11, 'cat,' True] for the next three questions. 6. What is the value of bacon.index('cat')?\n"
   ]
  },
  {
   "cell_type": "markdown",
   "id": "c1c4ac20",
   "metadata": {},
   "source": [
    "1 would be the value as index returns the index of the first occurance\n"
   ]
  },
  {
   "cell_type": "markdown",
   "id": "79cde3fa",
   "metadata": {},
   "source": [
    "# 7. How does bacon.append(99) change the look of the list value in bacon?\n"
   ]
  },
  {
   "cell_type": "markdown",
   "id": "58d55c1c",
   "metadata": {},
   "source": [
    "The appended list would be [3.14,’cat’,11,’cat’,True,99]\n"
   ]
  },
  {
   "cell_type": "markdown",
   "id": "6520b2ab",
   "metadata": {},
   "source": [
    "# 8. How does bacon.remove('cat') change the look of the list in bacon?\n"
   ]
  },
  {
   "cell_type": "markdown",
   "id": "aaec7efa",
   "metadata": {},
   "source": [
    "The new list would be [3.14,11,’cat’,True,99]\n"
   ]
  },
  {
   "cell_type": "markdown",
   "id": "123cab0c",
   "metadata": {},
   "source": [
    "# 9. What are the list concatenation and list replication operators?\n"
   ]
  },
  {
   "cell_type": "markdown",
   "id": "89e66591",
   "metadata": {},
   "source": [
    " + '+' is used for list concatination and * is used for list replication\n"
   ]
  },
  {
   "cell_type": "markdown",
   "id": "29515574",
   "metadata": {},
   "source": [
    "# 10. What is difference between the list methods append() and insert()?\n"
   ]
  },
  {
   "cell_type": "markdown",
   "id": "d72e92d5",
   "metadata": {},
   "source": [
    "Append would insert an element to the last position of the list. Whereas insert would insert an element to the given position.\n"
   ]
  },
  {
   "cell_type": "markdown",
   "id": "ddb313e3",
   "metadata": {},
   "source": [
    "# 11. What are the two methods for removing items from a list?\n"
   ]
  },
  {
   "cell_type": "markdown",
   "id": "7bbbb1e3",
   "metadata": {},
   "source": [
    "Pop function  is used to remove an element from a particular position. By default it removes the last element. Remove function is used to remove the first occurance of the element.\n"
   ]
  },
  {
   "cell_type": "markdown",
   "id": "0bd097ec",
   "metadata": {},
   "source": [
    "# 12. Describe how list values and string values are identical.\n"
   ]
  },
  {
   "cell_type": "markdown",
   "id": "e3b31dfa",
   "metadata": {},
   "source": [
    "List values and string values have length. Length of list values depends on the number of elements and the length of string values depends on the number of characters present. Also string values and list values are iterable.\n"
   ]
  },
  {
   "cell_type": "markdown",
   "id": "73f62b31",
   "metadata": {},
   "source": [
    "# 13. What's the difference between tuples and lists?\n"
   ]
  },
  {
   "cell_type": "markdown",
   "id": "ad9bbb06",
   "metadata": {},
   "source": [
    "Tuples are immutable which means they cannot be altered whereas lists are mutable. Tuples are represented by () whereas lists are represented by []. Tuples are faster to execute as compared to list due to the fact that tuples consume less memory.\n"
   ]
  },
  {
   "cell_type": "markdown",
   "id": "d0675c53",
   "metadata": {},
   "source": [
    "# 14. How do you type a tuple value that only contains the integer 42?\n"
   ]
  },
  {
   "cell_type": "markdown",
   "id": "d884e1df",
   "metadata": {},
   "source": [
    "we have to add a comma after 42 and leave it empty.\n",
    "for example- a=(42,)"
   ]
  },
  {
   "cell_type": "markdown",
   "id": "280308d2",
   "metadata": {},
   "source": [
    "# 15. How do you get a list value's tuple form? How do you get a tuple value's list form?\n"
   ]
  },
  {
   "cell_type": "markdown",
   "id": "ecaa87ba",
   "metadata": {},
   "source": [
    "To get the list value’s tuple form we use tuple() function and to get the tuple value’s list form we use list() function."
   ]
  },
  {
   "cell_type": "markdown",
   "id": "a8f8cc74",
   "metadata": {},
   "source": [
    "# 16. Variables that \"contain\" list values are not necessarily lists themselves. Instead, what do they contain?\n"
   ]
  },
  {
   "cell_type": "markdown",
   "id": "7c44effb",
   "metadata": {},
   "source": [
    "They will hold the memeory reference to the list\n"
   ]
  },
  {
   "cell_type": "markdown",
   "id": "10e6e8a1",
   "metadata": {},
   "source": [
    "# 17. How do you distinguish between copy.copy() and copy.deepcopy()?\n"
   ]
  },
  {
   "cell_type": "markdown",
   "id": "0cd7c9ed",
   "metadata": {},
   "source": [
    "copy.copy() refers to shallow copy and it is used to copy the memory refernce of the object. whereas deep copy which is represented as copy.deepcopy() copies the values of the object. For example L1=[1,2,3,1] If we create another list L2=L1. Then L2 will not create a new list with values same as L1 instead it will copy the memory reference of L1 to L2. This is shallow copy which does the same as =. If we make changes to the old list it will not be reflected in the new list in deep copy as they are independent. Since shallow copy points to the memory reference any change made to original list will be reflected in new list also"
   ]
  },
  {
   "cell_type": "markdown",
   "id": "db664208",
   "metadata": {},
   "source": []
  },
  {
   "cell_type": "code",
   "execution_count": null,
   "id": "3bb26e90",
   "metadata": {},
   "outputs": [],
   "source": []
  },
  {
   "cell_type": "code",
   "execution_count": null,
   "id": "ba124dd5",
   "metadata": {},
   "outputs": [],
   "source": []
  },
  {
   "cell_type": "code",
   "execution_count": null,
   "id": "7da4f3f7",
   "metadata": {},
   "outputs": [],
   "source": []
  },
  {
   "cell_type": "code",
   "execution_count": null,
   "id": "0c30e092",
   "metadata": {},
   "outputs": [],
   "source": []
  },
  {
   "cell_type": "code",
   "execution_count": null,
   "id": "b792952b",
   "metadata": {},
   "outputs": [],
   "source": []
  }
 ],
 "metadata": {
  "kernelspec": {
   "display_name": "Python 3 (ipykernel)",
   "language": "python",
   "name": "python3"
  },
  "language_info": {
   "codemirror_mode": {
    "name": "ipython",
    "version": 3
   },
   "file_extension": ".py",
   "mimetype": "text/x-python",
   "name": "python",
   "nbconvert_exporter": "python",
   "pygments_lexer": "ipython3",
   "version": "3.9.7"
  }
 },
 "nbformat": 4,
 "nbformat_minor": 5
}
