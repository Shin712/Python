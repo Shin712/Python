{
 "cells": [
  {
   "cell_type": "markdown",
   "id": "8e9a8bc1",
   "metadata": {},
   "source": [
    "# 1. Write a Python Program to Find the Factorial of a Number?"
   ]
  },
  {
   "cell_type": "code",
   "execution_count": 4,
   "id": "2da17d4b",
   "metadata": {},
   "outputs": [
    {
     "name": "stdout",
     "output_type": "stream",
     "text": [
      "Enter the number for which you need factorial: 5\n",
      "120\n"
     ]
    }
   ],
   "source": [
    "n=int(input(\"Enter the number for which you need factorial: \"))\n",
    "fact=1\n",
    "for i in range(1,n+1):\n",
    "    fact=fact*i\n",
    "print(fact)"
   ]
  },
  {
   "cell_type": "markdown",
   "id": "f46c31fa",
   "metadata": {},
   "source": [
    "# 2. Write a Python Program to Display the multiplication Table?"
   ]
  },
  {
   "cell_type": "code",
   "execution_count": 10,
   "id": "8b2f1e95",
   "metadata": {},
   "outputs": [
    {
     "name": "stdout",
     "output_type": "stream",
     "text": [
      "Enter the number for which you need the multiplication table: 2\n",
      "Enter the limit until which we need the multiplication table: 10\n",
      "2 * 1 = 2\n",
      "2 * 2 = 4\n",
      "2 * 3 = 6\n",
      "2 * 4 = 8\n",
      "2 * 5 = 10\n",
      "2 * 6 = 12\n",
      "2 * 7 = 14\n",
      "2 * 8 = 16\n",
      "2 * 9 = 18\n",
      "2 * 10 = 20\n"
     ]
    }
   ],
   "source": [
    "n1=int(input(\"Enter the number for which you need the multiplication table: \"))\n",
    "r=int(input(\"Enter the limit until which we need the multiplication table: \"))\n",
    "for i in range(1,r+1):\n",
    "    print(n1,\"*\",i,\"=\",n1*i)\n"
   ]
  },
  {
   "cell_type": "markdown",
   "id": "3aeba7b8",
   "metadata": {},
   "source": [
    "# 3. Write a Python Program to Print the Fibonacci sequence?"
   ]
  },
  {
   "cell_type": "code",
   "execution_count": 4,
   "id": "e80f340d",
   "metadata": {},
   "outputs": [
    {
     "name": "stdout",
     "output_type": "stream",
     "text": [
      "Enter the limit for fibonacci number: 10\n",
      "[0, 1, 1, 2, 3, 5, 8, 13, 21, 34]\n"
     ]
    }
   ],
   "source": [
    "r1=int(input(\"Enter the limit for fibonacci number: \"))\n",
    "l=[0,1]\n",
    "fib=0\n",
    "for i in range(1,r1-1):\n",
    "    fib=l[i-1]+l[i]\n",
    "    l.append(fib)\n",
    "print(l)"
   ]
  },
  {
   "cell_type": "markdown",
   "id": "177ffe87",
   "metadata": {},
   "source": [
    "# 4. Write a Python Program to Check Armstrong Number?"
   ]
  },
  {
   "cell_type": "code",
   "execution_count": 13,
   "id": "181b435d",
   "metadata": {},
   "outputs": [
    {
     "name": "stdout",
     "output_type": "stream",
     "text": [
      "Enter the no of elements you want to display: 2\n",
      "Enter the numbers to check: 5\n",
      "Enter the numbers to check: 3\n",
      "The given number is not an armstrong number \n"
     ]
    }
   ],
   "source": [
    "import math\n",
    "limit=int(input(\"Enter the no of elements you want to display: \"))\n",
    "l1=[]\n",
    "l2=[]\n",
    "sum1=0\n",
    "for i in range(0,limit):\n",
    "    t=int(input(\"Enter the numbers to check: \"))\n",
    "    l1.append(t)\n",
    "for j in l1:\n",
    "    sum1=sum1+math.pow(j,limit)\n",
    "sum2=int(sum1)\n",
    "for k in range(0,limit):\n",
    "    l2.append(sum2%10)\n",
    "    sum2=int(sum2/10)\n",
    "l2=l2[::-1]\n",
    "if(l1==l2):\n",
    "    print(\"The given number is an armstrong number \")\n",
    "else:\n",
    "    print(\"The given number is not an armstrong number \")"
   ]
  },
  {
   "cell_type": "markdown",
   "id": "a3f45213",
   "metadata": {},
   "source": [
    "# 4. Write a Python Program to Check Armstrong Number?"
   ]
  },
  {
   "cell_type": "code",
   "execution_count": 4,
   "id": "11e666b4",
   "metadata": {},
   "outputs": [
    {
     "name": "stdout",
     "output_type": "stream",
     "text": [
      "Enter the number to check: 153\n",
      "The given number is an armstrong number\n"
     ]
    }
   ],
   "source": [
    "import math\n",
    "Numb=int(input(\"Enter the number to check: \"))\n",
    "order=len(str(Numb))\n",
    "N1=Numb\n",
    "Sum=0\n",
    "for i in range(order):\n",
    "    Sum+=pow((N1%10),order)\n",
    "    N1=int(N1/10)\n",
    "if(Sum==Numb):\n",
    "    print(\"The given number is an armstrong number\")\n",
    "else:\n",
    "    print(\"The given number is not an armstrong number\")"
   ]
  },
  {
   "cell_type": "markdown",
   "id": "6aa1a896",
   "metadata": {},
   "source": [
    "# 5. Write a Python Program to Find Armstrong Number in an Interval?"
   ]
  },
  {
   "cell_type": "code",
   "execution_count": 3,
   "id": "96466083",
   "metadata": {},
   "outputs": [
    {
     "name": "stdout",
     "output_type": "stream",
     "text": [
      "Enter the starting limit: 500\n",
      "Enter the ending limit: 10000\n",
      "1634\n",
      "8208\n",
      "9474\n"
     ]
    }
   ],
   "source": [
    "def arm(n):\n",
    "    sum3=0\n",
    "    n1=n\n",
    "    order=len(str(n))\n",
    "    for j in range(order):\n",
    "        sum3=sum3+pow((n1%10),order)\n",
    "        n1=int(n1/10)\n",
    "    if(sum3==n):\n",
    "        return True\n",
    "    else:\n",
    "        return False\n",
    "\n",
    "S_lim=int(input(\"Enter the starting limit: \"))\n",
    "E_lim=int(input(\"Enter the ending limit: \"))\n",
    "for i in range(S_lim,E_lim+1):\n",
    "    if arm(i):\n",
    "        print(i)"
   ]
  },
  {
   "cell_type": "markdown",
   "id": "1bc5dab4",
   "metadata": {},
   "source": [
    "# 5. Write a Python Program to Find Armstrong Number in an Interval?\n"
   ]
  },
  {
   "cell_type": "code",
   "execution_count": 10,
   "id": "b0474a3a",
   "metadata": {},
   "outputs": [
    {
     "name": "stdout",
     "output_type": "stream",
     "text": [
      "Enter the starting limit: 100\n",
      "Enter the Ending limit: 10000\n",
      "153\n",
      "370\n",
      "371\n",
      "407\n",
      "1634\n",
      "8208\n",
      "9474\n"
     ]
    }
   ],
   "source": [
    "def arm(n):\n",
    "    sum3=0\n",
    "    n1=n\n",
    "    order=len(str(n))\n",
    "    for j in range(order):\n",
    "        sum3=sum3+pow((n1%10),order)\n",
    "        n1=int(n1/10)\n",
    "    if(sum3==n):\n",
    "        return True\n",
    "    else:\n",
    "        return False\n",
    "\n",
    "S_lim=int(input(\"Enter the starting limit: \"))\n",
    "E_lim=int(input(\"Enter the Ending limit: \"))\n",
    "for i in range(S_lim,E_lim+1):\n",
    "    if arm(i):\n",
    "        print(i)"
   ]
  },
  {
   "cell_type": "markdown",
   "id": "f0cd5738",
   "metadata": {},
   "source": [
    "# 6. Write a Python Program to Find the Sum of Natural Numbers?"
   ]
  },
  {
   "cell_type": "code",
   "execution_count": 2,
   "id": "9119a6e4",
   "metadata": {},
   "outputs": [
    {
     "name": "stdout",
     "output_type": "stream",
     "text": [
      "Enter the limit for first n natural numbers: 100\n",
      "The sum of first n natural numbers is:  5050.0\n"
     ]
    }
   ],
   "source": [
    "N=int(input(\"Enter the limit for first n natural numbers: \"))\n",
    "Sum_n=(N*(N+1))/2\n",
    "print(\"The sum of first n natural numbers is: \",Sum_n)"
   ]
  },
  {
   "cell_type": "code",
   "execution_count": null,
   "id": "75ae97f2",
   "metadata": {},
   "outputs": [],
   "source": []
  }
 ],
 "metadata": {
  "kernelspec": {
   "display_name": "Python 3 (ipykernel)",
   "language": "python",
   "name": "python3"
  },
  "language_info": {
   "codemirror_mode": {
    "name": "ipython",
    "version": 3
   },
   "file_extension": ".py",
   "mimetype": "text/x-python",
   "name": "python",
   "nbconvert_exporter": "python",
   "pygments_lexer": "ipython3",
   "version": "3.9.7"
  }
 },
 "nbformat": 4,
 "nbformat_minor": 5
}
