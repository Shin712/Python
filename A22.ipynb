{
 "cells": [
  {
   "cell_type": "markdown",
   "id": "859a36a0",
   "metadata": {},
   "source": [
    "# 1. What is the result of the code, and explain?\n",
    "\n",
    "X = 'iNeuron'\n",
    "def func():\n",
    "    print(X)\n",
    "func()"
   ]
  },
  {
   "cell_type": "markdown",
   "id": "f4aaa858",
   "metadata": {},
   "source": [
    "The result of te above code is Ineuron. A gobal variable is assigned a string \n",
    "‘neuron ‘. A function func is defined which prints the values of X. Once the \n",
    "function is passed the value of X is printed. Hence Ineuron gets printed."
   ]
  },
  {
   "cell_type": "markdown",
   "id": "644ae6b0",
   "metadata": {},
   "source": [
    "# 2. What is the result of the code, and explain?\n",
    "\n",
    "X = 'iNeuron'\n",
    "def func():\n",
    "X = 'NI!'\n",
    "func()\n",
    "print(X)"
   ]
  },
  {
   "cell_type": "markdown",
   "id": "5abdee51",
   "metadata": {},
   "source": [
    "Ineuron will be printed. In the above code, A global variable is assigned the value ‘\n",
    "Ineuron. A function func is defined. And a local variable X is assigned the value ‘\n",
    "NI. The function is called and the since thefunction doesn’t return the local \n",
    "variable. It printes the global variable as the scope of the value of X outside the \n",
    "function is ‘Ineuron "
   ]
  },
  {
   "cell_type": "markdown",
   "id": "6999af27",
   "metadata": {},
   "source": [
    "# 3. What does this code print, and why?\n",
    "\n",
    "\n",
    " X = 'iNeuron'\n",
    "def func():\n",
    "\t\tX = 'NI'\n",
    "\tprint(X)\n",
    "func()\n",
    "print(X)\n",
    "\n"
   ]
  },
  {
   "cell_type": "markdown",
   "id": "647979a3",
   "metadata": {},
   "source": [
    "In the baove code Niwill be printed first and then Ineuron will be printed next.\n",
    "When the function is called it first prints the local variable and then when we \n",
    "print the value of x the global variable is printed."
   ]
  },
  {
   "cell_type": "markdown",
   "id": "3a933994",
   "metadata": {},
   "source": [
    "# 4. What output does this code produce? Why?\n",
    " \n",
    "X = 'iNeuron'\n",
    " def func():\n",
    "\tglobal X\n",
    "\tX = 'NI'\n",
    " func()\n",
    " print(X)\n",
    "\n"
   ]
  },
  {
   "cell_type": "markdown",
   "id": "8b215eee",
   "metadata": {},
   "source": [
    "NI will be the output of the above code as the value of the global variable X is \n",
    "replaced by the value of the the global variable within the function."
   ]
  },
  {
   "cell_type": "markdown",
   "id": "7c803a91",
   "metadata": {},
   "source": [
    "# 5. What about this code—what’s the output, and why?\n",
    "\n",
    " X = 'iNeuron'\n",
    " def func():\n",
    "\tX = 'NI'\n",
    "def nested():\n",
    "\tprint(X)\n",
    "nested()\n",
    " func()\n",
    " X\n",
    "\n"
   ]
  },
  {
   "cell_type": "markdown",
   "id": "f6f35877",
   "metadata": {},
   "source": [
    "The above code would print ‘NI'. Since the value ‘Ni’ is assigned in teh \n",
    "function func() and nested functio is within the func() function. Hence when the function nested is called it \n",
    "prints the value of the local variable. Later when we check the value of X outside the function it gives the value of the global variable."
   ]
  },
  {
   "cell_type": "markdown",
   "id": "26c04fb1",
   "metadata": {},
   "source": [
    "# 6. How about  this code: what is its output in Python 3, and explain?\n",
    "def func():\n",
    "    X = 'NI'\n",
    "    def nested():\n",
    "        nonlocal X\n",
    "        X = 'Spam'\n",
    "nested()\n",
    "print(X)\n",
    "func()"
   ]
  },
  {
   "cell_type": "markdown",
   "id": "0472320f",
   "metadata": {},
   "source": [
    "Python 3 would give a name error stating nested is not defined as the function nested is within the function func(). we must first call the outer function which is func() and then the inner function should be called inside the outer function. Also it would give an error saying X is not defined. X is a variable that has its scope within the function. When called outside the function it gives a name error. A better way to write the above program would be:"
   ]
  },
  {
   "cell_type": "code",
   "execution_count": 8,
   "id": "85fcac9e",
   "metadata": {
    "scrolled": true
   },
   "outputs": [
    {
     "name": "stdout",
     "output_type": "stream",
     "text": [
      "NI\n",
      "Spam\n"
     ]
    }
   ],
   "source": [
    "def func():\n",
    "    X = 'NI'\n",
    "    print(X)\n",
    "    def nested():\n",
    "        nonlocal X\n",
    "        X = 'Spam'\n",
    "        print(X)\n",
    "    nested()\n",
    "func()"
   ]
  },
  {
   "cell_type": "code",
   "execution_count": null,
   "id": "3d43422a",
   "metadata": {},
   "outputs": [],
   "source": []
  },
  {
   "cell_type": "code",
   "execution_count": null,
   "id": "706df621",
   "metadata": {},
   "outputs": [],
   "source": []
  },
  {
   "cell_type": "code",
   "execution_count": null,
   "id": "2a5e08ba",
   "metadata": {},
   "outputs": [],
   "source": []
  }
 ],
 "metadata": {
  "kernelspec": {
   "display_name": "Python 3 (ipykernel)",
   "language": "python",
   "name": "python3"
  },
  "language_info": {
   "codemirror_mode": {
    "name": "ipython",
    "version": 3
   },
   "file_extension": ".py",
   "mimetype": "text/x-python",
   "name": "python",
   "nbconvert_exporter": "python",
   "pygments_lexer": "ipython3",
   "version": "3.9.7"
  }
 },
 "nbformat": 4,
 "nbformat_minor": 5
}
