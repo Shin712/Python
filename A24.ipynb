{
 "cells": [
  {
   "cell_type": "markdown",
   "id": "f1a66a0a",
   "metadata": {},
   "source": [
    "# 1. What is the relationship between def statements and lambda expressions ?\n"
   ]
  },
  {
   "cell_type": "markdown",
   "id": "a0579c28",
   "metadata": {},
   "source": [
    "Def statement is used to define a function(name of the function is also mentioned).  Whereas a Lamda functon is to define an anonymous function. So both are keywords used to define a function\n"
   ]
  },
  {
   "cell_type": "markdown",
   "id": "e8b1e0b8",
   "metadata": {},
   "source": [
    "# 2. What is the benefit of lambda?\n"
   ]
  },
  {
   "cell_type": "markdown",
   "id": "598adc9e",
   "metadata": {},
   "source": [
    "With Lambda function we can define an anonymous function in a precise form and use it immedietly.\n"
   ]
  },
  {
   "cell_type": "markdown",
   "id": "583f9f83",
   "metadata": {},
   "source": [
    "# 3. Compare and contrast map, filter, and reduce.\n"
   ]
  },
  {
   "cell_type": "markdown",
   "id": "f0f6d09d",
   "metadata": {},
   "source": [
    "Map-map function takes a function and list and applies the function to each element in a list and returns a new list.\n",
    "example: \n",
    "L=input(\"Enter the elements in the list: \")\n",
    "L=list(map(int,L.split()))\n",
    "print(\n",
    "Map doesn't require to be imported from any module\n",
    "filter- This function takes the input as a function and a list and returns a filtered result based on the function condition/test. Filter doesn't require any module t be imported\n",
    "example:\n",
    "L1=list(filter(lambda x:x%2==0,L))\n",
    "print(L1)\n",
    "reduce- Reduces takes a function and list as input and applies the function continously to each element in the list and gives a final result. Reduce can be imported from functools.\n",
    "from functools import reduce\n",
    "result=reduce(lambda x,y:x*y,L)\n",
    "print(result)"
   ]
  },
  {
   "cell_type": "code",
   "execution_count": 2,
   "id": "8c8bd5ee",
   "metadata": {},
   "outputs": [
    {
     "name": "stdout",
     "output_type": "stream",
     "text": [
      "Enter the elements in the list: 1 2 3 4 5 6\n",
      "[1, 2, 3, 4, 5, 6]\n"
     ]
    }
   ],
   "source": [
    "L=input(\"Enter the elements in the list: \")\n",
    "L=list(map(int,L.split()))\n",
    "print(L)"
   ]
  },
  {
   "cell_type": "code",
   "execution_count": 10,
   "id": "1aaba5ce",
   "metadata": {},
   "outputs": [
    {
     "name": "stdout",
     "output_type": "stream",
     "text": [
      "[2, 4, 6]\n"
     ]
    }
   ],
   "source": [
    "L1=list(filter(lambda x:x%2==0,L))\n",
    "print(L1)"
   ]
  },
  {
   "cell_type": "code",
   "execution_count": 12,
   "id": "31aa627f",
   "metadata": {},
   "outputs": [
    {
     "name": "stdout",
     "output_type": "stream",
     "text": [
      "720\n"
     ]
    }
   ],
   "source": [
    "from functools import reduce\n",
    "result=reduce(lambda x,y:x*y,L)\n",
    "print(result)"
   ]
  },
  {
   "cell_type": "markdown",
   "id": "683ef4d6",
   "metadata": {},
   "source": [
    "# 4. What are function annotations, and how are they used?\n"
   ]
  },
  {
   "cell_type": "markdown",
   "id": "20c9c034",
   "metadata": {},
   "source": [
    "function annotations is a feature that allows us to specify data that decribes about the function parameters or the return type or both. This way we will be able to specify about the function parameters and the return type. We can annotate a function by using colon (:) or arrow(->)"
   ]
  },
  {
   "cell_type": "markdown",
   "id": "a7f7ba4f",
   "metadata": {},
   "source": [
    "# 5. What are recursive functions, and how are they used?\n"
   ]
  },
  {
   "cell_type": "markdown",
   "id": "6481ae31",
   "metadata": {},
   "source": [
    "Functions that are called again and again are called recursive functions. When a program calls a function. Function reaches the top of the stack and goes to the bottom iteratively. Recursive functions solves a problem by solving smaller instances of the problem. In the below example, the return function calls the fact function of n-1 until \n",
    "for example:"
   ]
  },
  {
   "cell_type": "code",
   "execution_count": 2,
   "id": "e6e501fa",
   "metadata": {},
   "outputs": [
    {
     "name": "stdout",
     "output_type": "stream",
     "text": [
      "Enter the number for which you want to find factorial: 5\n"
     ]
    },
    {
     "data": {
      "text/plain": [
       "120"
      ]
     },
     "execution_count": 2,
     "metadata": {},
     "output_type": "execute_result"
    }
   ],
   "source": [
    "def fact(n):\n",
    "    if(n==1 or n==0):\n",
    "        return 1\n",
    "    else:\n",
    "        return n*fact(n-1)\n",
    "N=int(input(\"Enter the number for which you want to find factorial: \"))\n",
    "fact(N)"
   ]
  },
  {
   "cell_type": "markdown",
   "id": "91fe19cc",
   "metadata": {},
   "source": [
    "# 6. What are some general design guidelines for coding functions?\n"
   ]
  },
  {
   "cell_type": "markdown",
   "id": "7bca3f68",
   "metadata": {},
   "source": [
    "1. what is the purpose of the function.\n",
    "2. What should the function take in as arguments\n",
    "3. what all variable have to be used to achieve the goal\n",
    "4. What should be the steps involved in achieving the goal\n",
    "5. what should the function return"
   ]
  },
  {
   "cell_type": "markdown",
   "id": "de4bb09e",
   "metadata": {},
   "source": [
    "# 7. Name three or more ways that functions can communicate results to a caller.\n"
   ]
  },
  {
   "cell_type": "markdown",
   "id": "ff2fe63e",
   "metadata": {},
   "source": [
    "a)Directly using the return statement. We can use the return statement to return the disired value to the caller.\n"
   ]
  },
  {
   "cell_type": "code",
   "execution_count": 1,
   "id": "d43fd4c4",
   "metadata": {},
   "outputs": [],
   "source": [
    "def add(a,b):\n",
    "    return a+b"
   ]
  },
  {
   "cell_type": "markdown",
   "id": "aa919d81",
   "metadata": {},
   "source": [
    "b) Indirectly by modifying a local variable that is passed as an argument."
   ]
  },
  {
   "cell_type": "code",
   "execution_count": 21,
   "id": "038b94cf",
   "metadata": {},
   "outputs": [],
   "source": [
    "def new(l):\n",
    "    l.append('New string')\n",
    "new(['existing','string'])"
   ]
  },
  {
   "cell_type": "markdown",
   "id": "dd93979a",
   "metadata": {},
   "source": [
    "c) Indirectly by modifying the variable self in the method"
   ]
  },
  {
   "cell_type": "code",
   "execution_count": 9,
   "id": "db9bb3b7",
   "metadata": {},
   "outputs": [
    {
     "name": "stdout",
     "output_type": "stream",
     "text": [
      "hello world\n"
     ]
    }
   ],
   "source": [
    "class Func1:\n",
    "    def __init__(self):\n",
    "        self.__words=[\"hello\"]\n",
    "    def add_words(self):\n",
    "        self.__words.append(\"world\")\n",
    "    def display_words(self):\n",
    "        print(*self.__words)\n",
    "X=Func1()\n",
    "X.add_words()\n",
    "X.display_words()"
   ]
  },
  {
   "cell_type": "markdown",
   "id": "676b63ea",
   "metadata": {},
   "source": [
    "d) Modifying the global variable"
   ]
  },
  {
   "cell_type": "code",
   "execution_count": 22,
   "id": "0c851f2c",
   "metadata": {},
   "outputs": [],
   "source": [
    "word=['old one']\n",
    "def dec_word():\n",
    "    word.append('new one')\n",
    "dec_word()"
   ]
  },
  {
   "cell_type": "code",
   "execution_count": null,
   "id": "1ccff84e",
   "metadata": {},
   "outputs": [],
   "source": []
  }
 ],
 "metadata": {
  "kernelspec": {
   "display_name": "Python 3 (ipykernel)",
   "language": "python",
   "name": "python3"
  },
  "language_info": {
   "codemirror_mode": {
    "name": "ipython",
    "version": 3
   },
   "file_extension": ".py",
   "mimetype": "text/x-python",
   "name": "python",
   "nbconvert_exporter": "python",
   "pygments_lexer": "ipython3",
   "version": "3.9.7"
  }
 },
 "nbformat": 4,
 "nbformat_minor": 5
}
