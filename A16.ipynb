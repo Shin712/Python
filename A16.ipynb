{
 "cells": [
  {
   "cell_type": "markdown",
   "id": "80529f0a",
   "metadata": {},
   "source": [
    "# 1. Create a list called years_list, starting with the year of your birth, and each year thereafter until the year of your fifth birthday. For example, if you were born in 1980. the list would be years_list = [1980, 1981, 1982, 1983, 1984, 1985]."
   ]
  },
  {
   "cell_type": "code",
   "execution_count": 4,
   "id": "80510097",
   "metadata": {},
   "outputs": [
    {
     "name": "stdout",
     "output_type": "stream",
     "text": [
      "Enter the limit: 5\n",
      "[1995, 1996, 1997, 1998, 1999, 2000]\n"
     ]
    }
   ],
   "source": [
    "years_list=[]\n",
    "Lim=int(input(\"Enter the limit: \"))\n",
    "for i in range(1995,1995+Lim+1):\n",
    "    years_list.append(i)\n",
    "print(years_list)"
   ]
  },
  {
   "cell_type": "markdown",
   "id": "203deadc",
   "metadata": {},
   "source": [
    "# 2. In which year in years_list was your third birthday? Remember, you were 0 years of age for your first year."
   ]
  },
  {
   "cell_type": "code",
   "execution_count": 5,
   "id": "0a2e6ef8",
   "metadata": {},
   "outputs": [
    {
     "name": "stdout",
     "output_type": "stream",
     "text": [
      "Enter the age to find the year corresponding to the age: 3\n",
      "I was 3 in the year 1998\n"
     ]
    }
   ],
   "source": [
    "Age=int(input(\"Enter the age to find the year corresponding to the age: \"))\n",
    "print(f\"I was {Age} in the year {years_list[Age]}\")\n"
   ]
  },
  {
   "cell_type": "markdown",
   "id": "4d7043ac",
   "metadata": {},
   "source": [
    "# 3.In the years list, which year were you the oldest?"
   ]
  },
  {
   "cell_type": "code",
   "execution_count": 7,
   "id": "9d27aa66",
   "metadata": {},
   "outputs": [
    {
     "name": "stdout",
     "output_type": "stream",
     "text": [
      "I was oldest in the year 2000 according to the list: \n"
     ]
    }
   ],
   "source": [
    "print(f\"I was oldest in the year {max(years_list)} according to the list: \")"
   ]
  },
  {
   "cell_type": "markdown",
   "id": "8109e785",
   "metadata": {},
   "source": [
    "# 4. Make a list called things with these three strings as elements: \"mozzarella\", \"cinderella\", \"salmonella\"."
   ]
  },
  {
   "cell_type": "code",
   "execution_count": 10,
   "id": "f99c8207",
   "metadata": {},
   "outputs": [],
   "source": [
    "things=[\"mozzarella\",\"cindrella\",\"salmonella\"]"
   ]
  },
  {
   "cell_type": "markdown",
   "id": "5757e470",
   "metadata": {},
   "source": [
    "# 5. Capitalize the element in things that refers to a person and then print the list. Did it change the element in the list?"
   ]
  },
  {
   "cell_type": "code",
   "execution_count": 14,
   "id": "525820e9",
   "metadata": {},
   "outputs": [
    {
     "name": "stdout",
     "output_type": "stream",
     "text": [
      "Mozzarella\n",
      "Cindrella\n",
      "Salmonella\n"
     ]
    }
   ],
   "source": [
    "for i in things:\n",
    "    print(i.capitalize())"
   ]
  },
  {
   "cell_type": "markdown",
   "id": "abe815cc",
   "metadata": {},
   "source": [
    "Capitalise will not change the original list"
   ]
  },
  {
   "cell_type": "markdown",
   "id": "c256462a",
   "metadata": {},
   "source": [
    "# 6. Make a surprise list with the elements \"Groucho,\" \"Chico,\" and \"Harpo.\""
   ]
  },
  {
   "cell_type": "code",
   "execution_count": 2,
   "id": "b857707d",
   "metadata": {},
   "outputs": [],
   "source": [
    "surprise=[\"Groucho\",\"Chico\",\"Harpo\"]"
   ]
  },
  {
   "cell_type": "markdown",
   "id": "0db23a7f",
   "metadata": {},
   "source": [
    "# 7. Lowercase the last element of the surprise list, reverse it, and then capitalize it."
   ]
  },
  {
   "cell_type": "code",
   "execution_count": 36,
   "id": "9f1381d2",
   "metadata": {},
   "outputs": [
    {
     "name": "stdout",
     "output_type": "stream",
     "text": [
      "Harpo\n",
      "Chico\n",
      "Groucho\n",
      "['harpo', 'Chico', 'Groucho']\n"
     ]
    }
   ],
   "source": [
    "surprise_new=list()\n",
    "import copy\n",
    "surprise_new=copy.deepcopy(surprise)\n",
    "#print(surprise_new)\n",
    "surprise_new[-1]=surprise[-1].lower()\n",
    "#print(surprise_new)\n",
    "surprise_new.reverse()\n",
    "#print(surprise_new)\n",
    "for i in surprise_new:\n",
    "    i=i.capitalize()\n",
    "    print(i)\n",
    "print(surprise_new)"
   ]
  },
  {
   "cell_type": "code",
   "execution_count": 43,
   "id": "d405be52",
   "metadata": {},
   "outputs": [
    {
     "name": "stdout",
     "output_type": "stream",
     "text": [
      "harpo\n",
      "oprah\n",
      "Oprah\n"
     ]
    }
   ],
   "source": [
    "print(surprise[-1].lower())\n",
    "print(surprise[-1][::-1].lower())\n",
    "print(surprise[-1][::-1].capitalize())"
   ]
  },
  {
   "cell_type": "markdown",
   "id": "cd49e856",
   "metadata": {},
   "source": [
    "# 8. Make an English-to-French dictionary called e2f and print it. Here are your starter words: dog is chien, cat is chat, and walrus is morse."
   ]
  },
  {
   "cell_type": "code",
   "execution_count": 4,
   "id": "07e2b27c",
   "metadata": {},
   "outputs": [
    {
     "name": "stdout",
     "output_type": "stream",
     "text": [
      "{'dog': 'chien', 'cat': 'chat', 'walrus': 'morse'}\n"
     ]
    }
   ],
   "source": [
    "e2f=dict()\n",
    "e2f['dog']='chien'\n",
    "e2f['cat']='chat'\n",
    "e2f['walrus']='morse'\n",
    "print(e2f)"
   ]
  },
  {
   "cell_type": "markdown",
   "id": "1ebc029f",
   "metadata": {},
   "source": [
    "# 9. Write the French word for walrus in your three-word dictionary e2f."
   ]
  },
  {
   "cell_type": "code",
   "execution_count": 5,
   "id": "26fe57e4",
   "metadata": {},
   "outputs": [
    {
     "name": "stdout",
     "output_type": "stream",
     "text": [
      "morse\n"
     ]
    }
   ],
   "source": [
    "print(e2f['walrus'])"
   ]
  },
  {
   "cell_type": "markdown",
   "id": "dbfa5b2b",
   "metadata": {},
   "source": [
    "# 10. Make a French-to-English dictionary called f2e from e2f. Use the items method."
   ]
  },
  {
   "cell_type": "code",
   "execution_count": 9,
   "id": "c7ad7a0b",
   "metadata": {},
   "outputs": [
    {
     "name": "stdout",
     "output_type": "stream",
     "text": [
      "{'chien': 'dog', 'chat': 'cat', 'morse': 'walrus'}\n"
     ]
    }
   ],
   "source": [
    "f2e=dict()\n",
    "f2e=dict([(values,key) for key,values in e2f.items()])\n",
    "print(f2e)"
   ]
  },
  {
   "cell_type": "markdown",
   "id": "e8bd21a3",
   "metadata": {},
   "source": [
    "# 11. Print the English version of the French word chien using f2e.\n"
   ]
  },
  {
   "cell_type": "code",
   "execution_count": 12,
   "id": "014d7b58",
   "metadata": {},
   "outputs": [
    {
     "name": "stdout",
     "output_type": "stream",
     "text": [
      "dog\n"
     ]
    }
   ],
   "source": [
    "print(f2e['chien'])"
   ]
  },
  {
   "cell_type": "markdown",
   "id": "bb624f8c",
   "metadata": {},
   "source": [
    "# 12. Make and print a set of English words from the keys in e2f.\n"
   ]
  },
  {
   "cell_type": "code",
   "execution_count": 13,
   "id": "d8dca193",
   "metadata": {},
   "outputs": [
    {
     "name": "stdout",
     "output_type": "stream",
     "text": [
      "dog\n",
      "cat\n",
      "walrus\n"
     ]
    }
   ],
   "source": [
    "for i in e2f:\n",
    "    print(i)"
   ]
  },
  {
   "cell_type": "markdown",
   "id": "51330a64",
   "metadata": {},
   "source": [
    "# 13. Make a multilevel dictionary called life. Use these strings for the topmost keys: 'animals', 'plants', and 'other'. Make the 'animals' key refer to another dictionary with the keys 'cats', 'octopi', and 'emus'. Make the 'cats' key refer to a list of strings with the values 'Henri', 'Grumpy', and 'Lucy'. Make all the other keys refer to empty dictionaries."
   ]
  },
  {
   "cell_type": "code",
   "execution_count": 15,
   "id": "4cb8cbab",
   "metadata": {},
   "outputs": [],
   "source": [
    "life={'animals':{'cats':['Henri','Grumpy','Lucy'],'octopi':{},'emus':{}},'plants':{},'other':{}}"
   ]
  },
  {
   "cell_type": "markdown",
   "id": "4cea6eab",
   "metadata": {},
   "source": [
    "# 14. Print the top-level keys of life."
   ]
  },
  {
   "cell_type": "code",
   "execution_count": 16,
   "id": "d3c61f3c",
   "metadata": {},
   "outputs": [
    {
     "name": "stdout",
     "output_type": "stream",
     "text": [
      "animals\n",
      "plants\n",
      "other\n"
     ]
    }
   ],
   "source": [
    "for i in life:\n",
    "    print(i)"
   ]
  },
  {
   "cell_type": "markdown",
   "id": "7017a356",
   "metadata": {},
   "source": [
    "# 15. Print the keys for life['animals']."
   ]
  },
  {
   "cell_type": "code",
   "execution_count": 17,
   "id": "8d7bc0a5",
   "metadata": {},
   "outputs": [
    {
     "name": "stdout",
     "output_type": "stream",
     "text": [
      "cats\n",
      "octopi\n",
      "emus\n"
     ]
    }
   ],
   "source": [
    "for keys in life['animals']:\n",
    "    print(keys)"
   ]
  },
  {
   "cell_type": "markdown",
   "id": "42acd9bb",
   "metadata": {},
   "source": [
    "# 16. Print the values for life['animals']['cats']\n"
   ]
  },
  {
   "cell_type": "code",
   "execution_count": 19,
   "id": "d265fdfd",
   "metadata": {},
   "outputs": [
    {
     "name": "stdout",
     "output_type": "stream",
     "text": [
      "Henri\n",
      "Grumpy\n",
      "Lucy\n"
     ]
    }
   ],
   "source": [
    "for values in life['animals']['cats']:\n",
    "    print(values)\n"
   ]
  },
  {
   "cell_type": "code",
   "execution_count": null,
   "id": "c1d4f351",
   "metadata": {},
   "outputs": [],
   "source": []
  },
  {
   "cell_type": "code",
   "execution_count": null,
   "id": "ce8a84d1",
   "metadata": {},
   "outputs": [],
   "source": []
  },
  {
   "cell_type": "code",
   "execution_count": null,
   "id": "19264cd4",
   "metadata": {},
   "outputs": [],
   "source": []
  },
  {
   "cell_type": "code",
   "execution_count": null,
   "id": "6d6180a0",
   "metadata": {},
   "outputs": [],
   "source": []
  },
  {
   "cell_type": "code",
   "execution_count": null,
   "id": "0f88b45c",
   "metadata": {},
   "outputs": [],
   "source": []
  },
  {
   "cell_type": "code",
   "execution_count": null,
   "id": "1b836b2b",
   "metadata": {},
   "outputs": [],
   "source": []
  },
  {
   "cell_type": "code",
   "execution_count": null,
   "id": "0021abc9",
   "metadata": {},
   "outputs": [],
   "source": []
  },
  {
   "cell_type": "code",
   "execution_count": null,
   "id": "2b1745e8",
   "metadata": {},
   "outputs": [],
   "source": []
  },
  {
   "cell_type": "code",
   "execution_count": null,
   "id": "e4c7aaf7",
   "metadata": {},
   "outputs": [],
   "source": []
  }
 ],
 "metadata": {
  "kernelspec": {
   "display_name": "Python 3 (ipykernel)",
   "language": "python",
   "name": "python3"
  },
  "language_info": {
   "codemirror_mode": {
    "name": "ipython",
    "version": 3
   },
   "file_extension": ".py",
   "mimetype": "text/x-python",
   "name": "python",
   "nbconvert_exporter": "python",
   "pygments_lexer": "ipython3",
   "version": "3.9.7"
  }
 },
 "nbformat": 4,
 "nbformat_minor": 5
}
