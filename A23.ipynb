{
 "cells": [
  {
   "cell_type": "markdown",
   "id": "2e8bb59f",
   "metadata": {},
   "source": [
    "# 1. What is the result of the code, and why?\n",
    "def func(a, b=6, c=8):\n",
    "print(a, b, c)\n",
    "func(1, 2)\n"
   ]
  },
  {
   "cell_type": "markdown",
   "id": "96b19179",
   "metadata": {},
   "source": [
    "1,2,8 will be the output of the above code as 2 will be the value of b when it is called hence it gets replaced by 2 instead of 6.\n"
   ]
  },
  {
   "cell_type": "markdown",
   "id": "b38a1f11",
   "metadata": {},
   "source": [
    "# 2. What is the result of this cod={'a':1,'b':2,'c':3}\n",
    "print(d)de, and why?\n",
    "def func(a, b, c=5):\n",
    "print(a, b, c)\n",
    "func(1, c=3, b=2)\n"
   ]
  },
  {
   "cell_type": "markdown",
   "id": "ae8f517a",
   "metadata": {},
   "source": [
    "1,2,3 will be the output of the above code as the value of c will be overwritten by  3.\n"
   ]
  },
  {
   "cell_type": "markdown",
   "id": "42017368",
   "metadata": {},
   "source": [
    "# 3. How about this code: what is its result, and why?\n",
    "def func(a, *pargs):\n",
    "\tprint(a, pargs)\n",
    "func(1, 2, 3)\n"
   ]
  },
  {
   "cell_type": "markdown",
   "id": "5f82bca3",
   "metadata": {},
   "source": [
    "1,(2,3) will be the output of the above code. The value of a would be 1 and the value of *pargs would take the value 2 and 3.\n"
   ]
  },
  {
   "cell_type": "markdown",
   "id": "0ffa1345",
   "metadata": {},
   "source": [
    "# 4. What does this code print, and why?\n",
    "def func(a, **kargs):\n",
    "\tprint(a, kargs)\n",
    "func(a=1, c=3, b=2)\n"
   ]
  },
  {
   "cell_type": "markdown",
   "id": "439645c3",
   "metadata": {},
   "source": [
    "The output of the above would be 1,’c’:3 ,’b’:2 as the value 1 would be assigned to a and the value of it would be printed, since kwargs prints the key value pair the value of b and c and itself is printed as key value pair.\n"
   ]
  },
  {
   "cell_type": "markdown",
   "id": "d1be66de",
   "metadata": {},
   "source": [
    "# 5. What gets printed by this, and explain?\n",
    "def func(a, b, c=8, d=5): \n",
    "    print(a, b, c, d)\n",
    "func(1, *(5, 6))\n"
   ]
  },
  {
   "cell_type": "markdown",
   "id": "c9b283ae",
   "metadata": {},
   "source": [
    "The function call func(1, *(5, 6)) unpacks the tuple (5, 6) using the * operator and passes its elements as separate arguments to the function func().\n",
    "\n",
    "So, the function call is equivalent to func(1, 5, 6)\n",
    "\n"
   ]
  },
  {
   "cell_type": "markdown",
   "id": "caea28af",
   "metadata": {},
   "source": [
    "# 6. what is the result of this, and explain?\n",
    "def func(a, b, c): \n",
    "    a = 2; \n",
    "    b[0] = 'x'; \n",
    "    c['a'] = 'y'\n",
    "l=1; m=[1]; n={'a':0}\n",
    "func(l, m, n)\n",
    "l, m, n\n"
   ]
  },
  {
   "cell_type": "markdown",
   "id": "eb25d59f",
   "metadata": {},
   "source": [
    "The output of the above would be 1,[‘x’],{‘a’:’y’}. The value of l would be replaced by 1 when the function is called. Since m is a list the first value of the list is replaced by ‘x’.The value with key ‘a’ is replaced by ‘y’."
   ]
  },
  {
   "cell_type": "code",
   "execution_count": null,
   "id": "2fe522fa",
   "metadata": {},
   "outputs": [],
   "source": []
  },
  {
   "cell_type": "code",
   "execution_count": null,
   "id": "a1af99ca",
   "metadata": {},
   "outputs": [],
   "source": []
  },
  {
   "cell_type": "code",
   "execution_count": null,
   "id": "49b8aec4",
   "metadata": {},
   "outputs": [],
   "source": []
  }
 ],
 "metadata": {
  "kernelspec": {
   "display_name": "Python 3 (ipykernel)",
   "language": "python",
   "name": "python3"
  },
  "language_info": {
   "codemirror_mode": {
    "name": "ipython",
    "version": 3
   },
   "file_extension": ".py",
   "mimetype": "text/x-python",
   "name": "python",
   "nbconvert_exporter": "python",
   "pygments_lexer": "ipython3",
   "version": "3.9.7"
  }
 },
 "nbformat": 4,
 "nbformat_minor": 5
}
