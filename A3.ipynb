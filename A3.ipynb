{
 "cells": [
  {
   "cell_type": "markdown",
   "id": "10b85258",
   "metadata": {},
   "source": [
    "# 1. Why are functions advantageous to have in your programs?"
   ]
  },
  {
   "cell_type": "markdown",
   "id": "0bef60fb",
   "metadata": {},
   "source": [
    "Functions can be reused and it is enough if we write the function once and call it in different places in our program so it saves time and effort in writing the function again. Also instead of writing a large program functions make the code simpler as it is reused. Whenever we are fixing errors it becomes easier. If there is an issue with the function then that can be fixed as we have different functions.\n"
   ]
  },
  {
   "cell_type": "markdown",
   "id": "2d199c0e",
   "metadata": {},
   "source": [
    "# 2. When does the code in a function run: when it's specified or when it's called?\n"
   ]
  },
  {
   "cell_type": "markdown",
   "id": "f3852342",
   "metadata": {},
   "source": [
    "The code in a function runs when it is called. \n"
   ]
  },
  {
   "cell_type": "markdown",
   "id": "56bc6bfc",
   "metadata": {},
   "source": [
    "# 3. What statement creates a function?\n"
   ]
  },
  {
   "cell_type": "markdown",
   "id": "7553f253",
   "metadata": {},
   "source": [
    "def statement is used to create a function\n"
   ]
  },
  {
   "cell_type": "markdown",
   "id": "991bb604",
   "metadata": {},
   "source": [
    "# 4. What is the difference between a function and a function call?\n"
   ]
  },
  {
   "cell_type": "markdown",
   "id": "7c1f32b5",
   "metadata": {},
   "source": [
    "Function contains lines of code which is utilised for a specific purpose.It can be resused depending on the function. A function call is calling the function. Only if the function is called the code in the function will be run.\n"
   ]
  },
  {
   "cell_type": "markdown",
   "id": "274f6ae6",
   "metadata": {},
   "source": [
    "# 5. How many global scopes are there in a Python program? How many local scopes?"
   ]
  },
  {
   "cell_type": "markdown",
   "id": "e621126c",
   "metadata": {},
   "source": [
    "There can be only one global scope for python but there can be any number of local scopes"
   ]
  },
  {
   "cell_type": "markdown",
   "id": "6bd609a3",
   "metadata": {},
   "source": [
    "# 6. What happens to variables in a local scope when the function call returns?"
   ]
  },
  {
   "cell_type": "markdown",
   "id": "aaaa875e",
   "metadata": {},
   "source": [
    "Variables in a local scope exists only until the function executes. when the function returns the desired then the local scope's variable lifecycle is complete"
   ]
  },
  {
   "cell_type": "markdown",
   "id": "2002f31b",
   "metadata": {},
   "source": [
    "# 7. What is the concept of a return value? Is it possible to have a return value in an expression?"
   ]
  },
  {
   "cell_type": "markdown",
   "id": "8bf76892",
   "metadata": {},
   "source": [
    "Return is used in a function to return the result of the function back to the caller. It is used with the return keyword and an optional python value. The return function can give any python object. We can have a return statement in an expression. For example we can assign the value returned by a function to a variable.\n"
   ]
  },
  {
   "cell_type": "markdown",
   "id": "7ec8a18b",
   "metadata": {},
   "source": [
    "# 8. If a function does not have a return statement, what is the return value of a call to that function?\n"
   ]
  },
  {
   "cell_type": "markdown",
   "id": "285ab3e7",
   "metadata": {},
   "source": [
    "If a function doesn't have a return value then it is of type none"
   ]
  },
  {
   "cell_type": "markdown",
   "id": "fa63b534",
   "metadata": {},
   "source": [
    "# 9. How do you make a function variable refer to the global variable?\n"
   ]
  },
  {
   "cell_type": "markdown",
   "id": "3ab4fa77",
   "metadata": {},
   "source": [
    "To make the function variable refer to the global variable we have to use the global keyword"
   ]
  },
  {
   "cell_type": "markdown",
   "id": "72458dde",
   "metadata": {},
   "source": [
    "# 10. What is the data type of None?\n"
   ]
  },
  {
   "cell_type": "markdown",
   "id": "d980515f",
   "metadata": {},
   "source": [
    "None data type means null\n"
   ]
  },
  {
   "cell_type": "markdown",
   "id": "cc35115f",
   "metadata": {},
   "source": [
    "# 11. What does the sentence import areallyourpetsnamederic do?\n"
   ]
  },
  {
   "cell_type": "markdown",
   "id": "76e650cf",
   "metadata": {},
   "source": [
    "The import clause makes all the module contents within areallyourpetsnamederic available to the caller"
   ]
  },
  {
   "cell_type": "markdown",
   "id": "a095d1a0",
   "metadata": {},
   "source": [
    "# 12. If you had a bacon() feature in a spam module, what would you call it after importing spam?\n"
   ]
  },
  {
   "cell_type": "markdown",
   "id": "6e581e18",
   "metadata": {},
   "source": [
    "we can call it by using spam.bacon()"
   ]
  },
  {
   "cell_type": "markdown",
   "id": "72bc2487",
   "metadata": {},
   "source": [
    "# 13. What can you do to save a programme from crashing if it encounters an error?\n"
   ]
  },
  {
   "cell_type": "markdown",
   "id": "f92a702b",
   "metadata": {},
   "source": [
    "We can use the try and except."
   ]
  },
  {
   "cell_type": "markdown",
   "id": "33940100",
   "metadata": {},
   "source": [
    "# 14. What is the purpose of the try clause? What is the purpose of the except clause?\n"
   ]
  },
  {
   "cell_type": "markdown",
   "id": "01122fa7",
   "metadata": {},
   "source": [
    "The try clause is executed until an error is encountered. Once an error is encountered the rest of the try clause is skipped and the type in the except clause is checked. If it matches then the except clause is executed instead of throwing error and crashing the program."
   ]
  },
  {
   "cell_type": "code",
   "execution_count": null,
   "id": "e004a89b",
   "metadata": {},
   "outputs": [],
   "source": []
  }
 ],
 "metadata": {
  "kernelspec": {
   "display_name": "Python 3 (ipykernel)",
   "language": "python",
   "name": "python3"
  },
  "language_info": {
   "codemirror_mode": {
    "name": "ipython",
    "version": 3
   },
   "file_extension": ".py",
   "mimetype": "text/x-python",
   "name": "python",
   "nbconvert_exporter": "python",
   "pygments_lexer": "ipython3",
   "version": "3.9.7"
  }
 },
 "nbformat": 4,
 "nbformat_minor": 5
}
