{
 "cells": [
  {
   "cell_type": "code",
   "execution_count": 2,
   "id": "db7e2885",
   "metadata": {},
   "outputs": [
    {
     "name": "stdout",
     "output_type": "stream",
     "text": [
      "Enter the value of Kilometers to convert: 1\n",
      "0.62137\n"
     ]
    }
   ],
   "source": [
    "kms=int(input(\"Enter the value of Kilometers to convert: \"))\n",
    "mile=kms*0.62137\n",
    "print(mile)"
   ]
  },
  {
   "cell_type": "code",
   "execution_count": 3,
   "id": "1994184f",
   "metadata": {},
   "outputs": [
    {
     "name": "stdout",
     "output_type": "stream",
     "text": [
      "Enter the temperature in celsius: 100\n",
      "The temperature in fahrenheit would be:  212.0\n"
     ]
    }
   ],
   "source": [
    "c=int(input(\"Enter the temperature in celsius: \"))\n",
    "f=(c*9/5) + 32\n",
    "print(\"The temperature in fahrenheit would be: \",f)"
   ]
  },
  {
   "cell_type": "code",
   "execution_count": 4,
   "id": "2fea21bc",
   "metadata": {},
   "outputs": [
    {
     "name": "stdout",
     "output_type": "stream",
     "text": [
      "Enter the year: 2023\n",
      "Enter the month in numbers: 4\n",
      "     April 2023\n",
      "Mo Tu We Th Fr Sa Su\n",
      "                1  2\n",
      " 3  4  5  6  7  8  9\n",
      "10 11 12 13 14 15 16\n",
      "17 18 19 20 21 22 23\n",
      "24 25 26 27 28 29 30\n",
      "\n"
     ]
    }
   ],
   "source": [
    "import calendar\n",
    "y=int(input(\"Enter the year: \"))\n",
    "m=int(input(\"Enter the month in numbers: \"))\n",
    "print(calendar.month(y,m))"
   ]
  },
  {
   "cell_type": "code",
   "execution_count": 5,
   "id": "e2c0de8c",
   "metadata": {},
   "outputs": [
    {
     "name": "stdout",
     "output_type": "stream",
     "text": [
      "Enter the value of a: 1\n",
      "Enter the value of b: 5\n",
      "Enter the value of c: -14\n",
      "(2+0j) (-7+0j)\n"
     ]
    }
   ],
   "source": [
    "import cmath\n",
    "a=int(input(\"Enter the value of a: \"))\n",
    "b=int(input(\"Enter the value of b: \"))\n",
    "C=int(input(\"Enter the value of c: \"))\n",
    "y=cmath.sqrt(((b*b)-4*a*C))\n",
    "x1=(-b+y)/2*a\n",
    "x2=(-b-y)/2*a\n",
    "print(x1,x2)"
   ]
  },
  {
   "cell_type": "code",
   "execution_count": 17,
   "id": "78212c95",
   "metadata": {},
   "outputs": [
    {
     "name": "stdout",
     "output_type": "stream",
     "text": [
      "Enter the first element:1\n",
      "Enter the second element:2\n",
      "The first element after swap is :  2 The second element after swap is :  1\n"
     ]
    }
   ],
   "source": [
    "h=input(\"Enter the first element:\")\n",
    "i=input(\"Enter the second element:\")\n",
    "h,i=i,h\n",
    "print(\"The first element after swap is : \",h,\"The second element after swap is : \",i)"
   ]
  },
  {
   "cell_type": "code",
   "execution_count": null,
   "id": "c4967ee3",
   "metadata": {},
   "outputs": [],
   "source": []
  }
 ],
 "metadata": {
  "kernelspec": {
   "display_name": "Python 3 (ipykernel)",
   "language": "python",
   "name": "python3"
  },
  "language_info": {
   "codemirror_mode": {
    "name": "ipython",
    "version": 3
   },
   "file_extension": ".py",
   "mimetype": "text/x-python",
   "name": "python",
   "nbconvert_exporter": "python",
   "pygments_lexer": "ipython3",
   "version": "3.9.7"
  }
 },
 "nbformat": 4,
 "nbformat_minor": 5
}
