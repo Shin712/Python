{
 "cells": [
  {
   "cell_type": "markdown",
   "id": "b5d62833",
   "metadata": {},
   "source": [
    "# 1. Write a Python program to find words which are greater than given length k?"
   ]
  },
  {
   "cell_type": "code",
   "execution_count": 6,
   "id": "19d43ea4",
   "metadata": {},
   "outputs": [
    {
     "name": "stdout",
     "output_type": "stream",
     "text": [
      "Enter the lenth to be checked: 5\n",
      "Enter the words for which you want to check: cat abc abcde string binary character\n",
      "The list of words greater than k are:  ['string', 'binary', 'character']\n"
     ]
    }
   ],
   "source": [
    "k=int(input(\"Enter the lenth to be checked: \"))\n",
    "Lis=input(\"Enter the words for which you want to check: \")\n",
    "Lis=list(map(str,Lis.split()))\n",
    "Lis1=[]\n",
    "for i in Lis:\n",
    "    if(len(i)>k):\n",
    "        Lis1.append(i)\n",
    "print(\"The list of words greater than k are: \",Lis1)\n",
    "        "
   ]
  },
  {
   "cell_type": "markdown",
   "id": "4a51b0e6",
   "metadata": {},
   "source": [
    "# 2. Write a Python program for removing i-th character from a string?"
   ]
  },
  {
   "cell_type": "code",
   "execution_count": 13,
   "id": "9b000db1",
   "metadata": {},
   "outputs": [
    {
     "name": "stdout",
     "output_type": "stream",
     "text": [
      "Enter the position of the character that has to be removed: 3\n",
      "Enter the string: Binary\n",
      "After deleting:  ['B', 'i', 'n', 'r', 'y']\n"
     ]
    }
   ],
   "source": [
    "Pos=int(input(\"Enter the position of the character that has to be removed: \"))\n",
    "Str=input(\"Enter the string: \")\n",
    "Str=list(Str)\n",
    "del Str[Pos]\n",
    "Str=str(Str)\n",
    "print(\"After deleting: \", Str)"
   ]
  },
  {
   "cell_type": "raw",
   "id": "ef09aa7e",
   "metadata": {},
   "source": [
    "Pos=int(input(\"Enter the position of the character that has to be removed: \"))\n",
    "Str=input(\"Enter the string: \")\n",
    "def remove_char(string1,i):\n",
    "    a=string1[:i]\n",
    "    b=string1[i+1:]\n",
    "    return a+b\n",
    "print(\"After deleting: \", remove_char(Str,Pos))\n"
   ]
  },
  {
   "cell_type": "code",
   "execution_count": 15,
   "id": "01718493",
   "metadata": {},
   "outputs": [
    {
     "name": "stdout",
     "output_type": "stream",
     "text": [
      "Enter the position of the character that has to be removed: 2\n",
      "Enter the string: program\n",
      "After deleting:  prgram\n"
     ]
    }
   ],
   "source": [
    "Pos=int(input(\"Enter the position of the character that has to be removed: \"))\n",
    "Str=input(\"Enter the string: \")\n",
    "Str=Str.replace(Str[Pos],\"\")\n",
    "print(\"After deleting: \",Str)\n"
   ]
  },
  {
   "cell_type": "markdown",
   "id": "17afe925",
   "metadata": {},
   "source": [
    "# 3. Write a Python program to split and join a string?"
   ]
  },
  {
   "cell_type": "code",
   "execution_count": 7,
   "id": "b7a98cf0",
   "metadata": {},
   "outputs": [
    {
     "name": "stdout",
     "output_type": "stream",
     "text": [
      "Enter the string: this,is,a,string\n",
      "Enter the string that has to be joined: 1234\n",
      "Enter the separator: ,\n",
      "The split string is:  ['this', 'is', 'a', 'string']\n",
      "The joined string is:  1this,is,a,string2this,is,a,string3this,is,a,string4\n"
     ]
    }
   ],
   "source": [
    "S1=input(\"Enter the string: \")\n",
    "V2=input(\"Enter the string that has to be joined: \")\n",
    "V1=input(\"Enter the separator: \")\n",
    "S_1=S1.split(V1)\n",
    "S_2=S1.join(V2)\n",
    "print(\"The split string is: \",S_1)\n",
    "print(\"The joined string is: \",S_2)"
   ]
  },
  {
   "cell_type": "markdown",
   "id": "0e2afde0",
   "metadata": {},
   "source": [
    "# 4. Write a Python to check if a given string is binary string or not?"
   ]
  },
  {
   "cell_type": "code",
   "execution_count": 6,
   "id": "3ec00dcb",
   "metadata": {},
   "outputs": [
    {
     "name": "stdout",
     "output_type": "stream",
     "text": [
      "Enter the string to check: 1085\n",
      "not binary\n"
     ]
    }
   ],
   "source": [
    "bin_str=input(\"Enter the string to check: \")\n",
    "for i in bin_str:\n",
    "    if(i=='0' or i=='1'):\n",
    "        count1=True\n",
    "    else:\n",
    "        count1=False\n",
    "if(count1==True):\n",
    "    print(\"Binary\")\n",
    "else:\n",
    "    print(\"not binary\")\n",
    "        "
   ]
  },
  {
   "cell_type": "code",
   "execution_count": 16,
   "id": "4ff31825",
   "metadata": {},
   "outputs": [
    {
     "name": "stdout",
     "output_type": "stream",
     "text": [
      "Enter the string to check: 1258\n",
      "{'2', '5', '1', '8'}\n",
      "not binary\n"
     ]
    }
   ],
   "source": [
    "bin_str=input(\"Enter the string to check: \")\n",
    "bin_str1=set(bin_str)\n",
    "print(bin_str1)\n",
    "p={'0','1'}\n",
    "if(bin_str1==p or bin_str=={'0'} or bin_str=={'1'}):\n",
    "    print(\"Binary\")\n",
    "else:\n",
    "    print(\"not binary\")\n",
    "        "
   ]
  },
  {
   "cell_type": "markdown",
   "id": "c278f7dc",
   "metadata": {},
   "source": [
    "# 5. Write a Python program to find uncommon words from two Strings?"
   ]
  },
  {
   "cell_type": "code",
   "execution_count": 21,
   "id": "baf349be",
   "metadata": {},
   "outputs": [
    {
     "name": "stdout",
     "output_type": "stream",
     "text": [
      "Enter the first string: This is a test message\n",
      "Enter the second string: I am a cat\n",
      "['a']\n"
     ]
    }
   ],
   "source": [
    "S_12=input(\"Enter the first string: \")\n",
    "S_7=input(\"Enter the second string: \")\n",
    "S_21=(S_12.lower()).split()\n",
    "S_70=(S_7.lower()).split()\n",
    "L12=[]\n",
    "for i in S_21:\n",
    "    for j in S_70:\n",
    "        if(i==j):\n",
    "            L12.append(i)\n",
    "print(L12)\n",
    "            "
   ]
  },
  {
   "cell_type": "markdown",
   "id": "33964862",
   "metadata": {},
   "source": [
    "# 6. Write a Python to find all duplicate characters in string?"
   ]
  },
  {
   "cell_type": "code",
   "execution_count": 28,
   "id": "e415bf31",
   "metadata": {},
   "outputs": [
    {
     "name": "stdout",
     "output_type": "stream",
     "text": [
      "Enter the string: This is a test message\n",
      "The list of dupicate characters are: ['s', 'a', 'e', 't', 'i']\n"
     ]
    }
   ],
   "source": [
    "Str_12=input(\"Enter the string: \")\n",
    "Lst_12=[]\n",
    "for i in Str_12:\n",
    "    if(Str_12.count(i)>1 and i!=' '):\n",
    "        Lst_12.append(i)\n",
    "Lst_12=list(set(Lst_12))is \n",
    "print(f\"The list of dupicate characters are: {Lst_12}\")\n",
    "        "
   ]
  },
  {
   "cell_type": "markdown",
   "id": "2fff2305",
   "metadata": {},
   "source": [
    "# 7. Write a Python Program to check if a string contains any special character?"
   ]
  },
  {
   "cell_type": "code",
   "execution_count": 4,
   "id": "935bd8ad",
   "metadata": {},
   "outputs": [
    {
     "name": "stdout",
     "output_type": "stream",
     "text": [
      "Enter the string to check for special characters: Pay cash in $\n",
      "The string has a special character: $\n"
     ]
    }
   ],
   "source": [
    "Spl_char={'!','@','#','$','%','^','&','*','(',')','\"',\"'\",'?','<','>',',','-','+','=','~','`'}\n",
    "S=input(\"Enter the string to check for special characters: \")\n",
    "S_set=set(S)\n",
    "if(S_set.intersection(Spl_char)):\n",
    "    special=','.join(S_set.intersection(Spl_char))\n",
    "    print(f\"The string has a special character: {special}\")\n",
    "else:\n",
    "    print(\"The string doesn't have a special character\")\n"
   ]
  }
 ],
 "metadata": {
  "kernelspec": {
   "display_name": "Python 3 (ipykernel)",
   "language": "python",
   "name": "python3"
  },
  "language_info": {
   "codemirror_mode": {
    "name": "ipython",
    "version": 3
   },
   "file_extension": ".py",
   "mimetype": "text/x-python",
   "name": "python",
   "nbconvert_exporter": "python",
   "pygments_lexer": "ipython3",
   "version": "3.9.7"
  }
 },
 "nbformat": 4,
 "nbformat_minor": 5
}
