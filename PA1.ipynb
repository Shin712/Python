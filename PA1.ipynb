{
 "cells": [
  {
   "cell_type": "markdown",
   "id": "93d20469",
   "metadata": {},
   "source": [
    "# 1. Write a Python program to print \"Hello Python\"?"
   ]
  },
  {
   "cell_type": "code",
   "execution_count": 13,
   "id": "9a077072",
   "metadata": {},
   "outputs": [
    {
     "name": "stdout",
     "output_type": "stream",
     "text": [
      "Hello python\n"
     ]
    }
   ],
   "source": [
    "print(\"Hello python\")"
   ]
  },
  {
   "cell_type": "markdown",
   "id": "456638f7",
   "metadata": {},
   "source": [
    "# 2. Write a Python program to do arithmetical operations addition and division.?"
   ]
  },
  {
   "cell_type": "code",
   "execution_count": 7,
   "id": "afc3b274",
   "metadata": {},
   "outputs": [
    {
     "name": "stdout",
     "output_type": "stream",
     "text": [
      "Enter 1st number: 1\n",
      "Enter 2nd number: 2\n",
      "The sum of  1 and  2 is:  3\n",
      "The division of  1 and  2 is:  0.5\n"
     ]
    }
   ],
   "source": [
    "a=int(input(\"Enter 1st number: \"))\n",
    "b=int(input(\"Enter 2nd number: \"))\n",
    "print(\"The sum of \",a,\"and \",b,\"is: \",a+b)\n",
    "print(\"The division of \",a,\"and \",b,\"is: \",a/b)"
   ]
  },
  {
   "cell_type": "markdown",
   "id": "9ff44ecd",
   "metadata": {},
   "source": [
    "# 3. Write a Python program to find the area of a triangle?"
   ]
  },
  {
   "cell_type": "code",
   "execution_count": 3,
   "id": "38886098",
   "metadata": {},
   "outputs": [
    {
     "name": "stdout",
     "output_type": "stream",
     "text": [
      "Enter base of the triangle: 5\n",
      "Enter height of the triangle: 20\n",
      "The Area of the triangle is:  50.0\n"
     ]
    }
   ],
   "source": [
    "c=int(input(\"Enter base of the triangle: \"))\n",
    "d=int(input(\"Enter height of the triangle: \"))\n",
    "print(\"The Area of the triangle is: \",((c*d)*0.5))"
   ]
  },
  {
   "cell_type": "markdown",
   "id": "2943acb1",
   "metadata": {},
   "source": [
    "# 4. Write a Python program to swap two variables?"
   ]
  },
  {
   "cell_type": "code",
   "execution_count": 6,
   "id": "6ac7291f",
   "metadata": {},
   "outputs": [
    {
     "name": "stdout",
     "output_type": "stream",
     "text": [
      "Enter 1st element to swap: 1\n",
      "Enter 2nd element to swap: 2\n",
      "The value of first element after swapping is:  2\n",
      "The value of second element after swapping is:  1\n"
     ]
    }
   ],
   "source": [
    "e=input(\"Enter 1st element to swap: \")\n",
    "f=input(\"Enter 2nd element to swap: \")\n",
    "temp=e\n",
    "e=f\n",
    "f=temp\n",
    "print(\"The value of first element after swapping is: \",e)\n",
    "print(\"The value of second element after swapping is: \",f)"
   ]
  },
  {
   "cell_type": "markdown",
   "id": "90e4c032",
   "metadata": {},
   "source": [
    "# 5. Write a Python program to generate a random number?"
   ]
  },
  {
   "cell_type": "code",
   "execution_count": 12,
   "id": "3f5ef8b4",
   "metadata": {},
   "outputs": [
    {
     "name": "stdout",
     "output_type": "stream",
     "text": [
      "Enter the limit to generate random number: 10\n"
     ]
    },
    {
     "data": {
      "text/plain": [
       "1"
      ]
     },
     "execution_count": 12,
     "metadata": {},
     "output_type": "execute_result"
    }
   ],
   "source": [
    "import random\n",
    "g=int(input(\"Enter the limit to generate random number: \"))\n",
    "random.randint(0,g)"
   ]
  },
  {
   "cell_type": "code",
   "execution_count": null,
   "id": "4bc22c64",
   "metadata": {},
   "outputs": [],
   "source": []
  }
 ],
 "metadata": {
  "kernelspec": {
   "display_name": "Python 3 (ipykernel)",
   "language": "python",
   "name": "python3"
  },
  "language_info": {
   "codemirror_mode": {
    "name": "ipython",
    "version": 3
   },
   "file_extension": ".py",
   "mimetype": "text/x-python",
   "name": "python",
   "nbconvert_exporter": "python",
   "pygments_lexer": "ipython3",
   "version": "3.9.7"
  }
 },
 "nbformat": 4,
 "nbformat_minor": 5
}
