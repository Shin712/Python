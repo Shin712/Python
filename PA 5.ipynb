{
 "cells": [
  {
   "cell_type": "markdown",
   "id": "98ec2343",
   "metadata": {},
   "source": [
    "# 1. Write a Python Program to Find LCM?"
   ]
  },
  {
   "cell_type": "code",
   "execution_count": 1,
   "id": "126e107d",
   "metadata": {},
   "outputs": [
    {
     "name": "stdout",
     "output_type": "stream",
     "text": [
      "Enter the numbers to find LCM: 10 20 50\n",
      "The LCM is 100\n"
     ]
    }
   ],
   "source": [
    "l1=input(\"Enter the numbers to find LCM: \")\n",
    "l1=list(map(int,l1.split()))\n",
    "# def lcm(l):\n",
    "m=min(l1)\n",
    "m1=max(l1)\n",
    "if all(m1%j==0 for j in l1):\n",
    "    if all(i%m==0 for i in l1):\n",
    "        print(f\"The LCM is {m1}\")        \n",
    "else:\n",
    "    while(True):\n",
    "        m1=m1+1\n",
    "        if all(m1%j==0 for j in l1):\n",
    "            print(f\"The LCM is {m1}\")\n",
    "            break"
   ]
  },
  {
   "cell_type": "code",
   "execution_count": 2,
   "id": "21948fd2",
   "metadata": {},
   "outputs": [
    {
     "name": "stdout",
     "output_type": "stream",
     "text": [
      "Enter the numbers to find LCM separated by spaces: 20 25 8\n",
      "The LCM of [20, 25, 8] is 200\n"
     ]
    }
   ],
   "source": [
    "import math\n",
    "numbers = input(\"Enter the numbers to find LCM separated by spaces: \")\n",
    "numbers = list(map(int, numbers.split()))\n",
    "result = math.lcm(*numbers)\n",
    "print(f\"The LCM of {numbers} is {result}\")"
   ]
  },
  {
   "cell_type": "markdown",
   "id": "cef6fb20",
   "metadata": {},
   "source": [
    "# 2. Write a Python Program to Find HCF?"
   ]
  },
  {
   "cell_type": "code",
   "execution_count": 64,
   "id": "0de7eae5",
   "metadata": {},
   "outputs": [
    {
     "name": "stdout",
     "output_type": "stream",
     "text": [
      "Enter the numbers separated by space: 96 112\n",
      "The HCF is:  16\n"
     ]
    }
   ],
   "source": [
    "H=input(\"Enter the numbers separated by space: \")\n",
    "H=list(map(int,H.split()))\n",
    "hcf=1\n",
    "def hcf_1(h):\n",
    "    l_1=list()\n",
    "    for i in h:\n",
    "        for j in range(2,max(h)):\n",
    "            if(i%j==0):\n",
    "                l_1.append(j)\n",
    "    return l_1\n",
    "l=hcf_1(H)\n",
    "s=set()\n",
    "for i in l:\n",
    "    if(l.count(i)>1):\n",
    "         s.add(i)\n",
    "print(\"The HCF is: \",max(s))"
   ]
  },
  {
   "cell_type": "markdown",
   "id": "9f2a81cf",
   "metadata": {},
   "source": [
    "# 3. Write a Python Program to Convert Decimal to Binary, Octal and Hexadecimal?"
   ]
  },
  {
   "cell_type": "code",
   "execution_count": 71,
   "id": "c16f468b",
   "metadata": {},
   "outputs": [
    {
     "name": "stdout",
     "output_type": "stream",
     "text": [
      "Enter the number: 10\n",
      "Enter the function: 'Binary', 'hexadecimal' and 'Octal': Octal\n",
      "0o12\n"
     ]
    }
   ],
   "source": [
    "N=int(input(\"Enter the number: \"))\n",
    "F=input(\"Enter the function: 'Binary', 'hexadecimal' and 'Octal': \")\n",
    "if(F=='Binary'):\n",
    "    N1=bin(N)\n",
    "elif(F=='hexadecimal'):\n",
    "    N1=hex(N)\n",
    "elif(F=='Octal'):\n",
    "    N1=oct(N)\n",
    "else:\n",
    "    print(\"Enter a valid input\")\n",
    "print(N1)"
   ]
  },
  {
   "cell_type": "markdown",
   "id": "f25f9b15",
   "metadata": {},
   "source": [
    "# 4. Write a Python Program To Find ASCII value of a character?"
   ]
  },
  {
   "cell_type": "code",
   "execution_count": 5,
   "id": "cb03d00e",
   "metadata": {},
   "outputs": [
    {
     "name": "stdout",
     "output_type": "stream",
     "text": [
      "Enter the character to check: Z\n",
      "The ASCII value of the given character is:  90\n"
     ]
    }
   ],
   "source": [
    "Num=input(\"Enter the character to check: \")\n",
    "Asc=ord(Num)\n",
    "print(\"The ASCII value of the given character is: \",Asc)"
   ]
  },
  {
   "cell_type": "markdown",
   "id": "5349ec69",
   "metadata": {},
   "source": [
    "# 5. Write a Python Program to Make a Simple Calculator with 4 basic mathematical operations?"
   ]
  },
  {
   "cell_type": "code",
   "execution_count": 4,
   "id": "b28b9aa1",
   "metadata": {},
   "outputs": [
    {
     "name": "stdout",
     "output_type": "stream",
     "text": [
      "Enter the first number: 224\n",
      "Enter the second number: 4\n",
      "Enter the operation: /\n",
      "The result is:  56.0\n"
     ]
    }
   ],
   "source": [
    "def add(a,b):\n",
    "    return a+b\n",
    "def sub(a,b):\n",
    "    return a-b\n",
    "def mul(a,b):\n",
    "    return a*b\n",
    "def div(a,b):\n",
    "    return a/b\n",
    "Num_1=int(input(\"Enter the first number: \"))\n",
    "Num_2=int(input(\"Enter the second number: \"))\n",
    "op_1=input(\"Enter the operation: \")\n",
    "if(op_1=='+'):\n",
    "    result=add(Num_1,Num_2)\n",
    "elif(op_1=='-'):\n",
    "    result=sub(Num_1,Num_2)\n",
    "elif(op_1=='*'):\n",
    "    result=mul(Num_1,Num_2)\n",
    "elif(op_1=='/'):\n",
    "    result=div(Num_1,Num_2)    \n",
    "print(\"The result is: \", result)"
   ]
  },
  {
   "cell_type": "code",
   "execution_count": null,
   "id": "29fbdc56",
   "metadata": {},
   "outputs": [],
   "source": []
  },
  {
   "cell_type": "code",
   "execution_count": null,
   "id": "63716295",
   "metadata": {},
   "outputs": [],
   "source": []
  }
 ],
 "metadata": {
  "kernelspec": {
   "display_name": "Python 3 (ipykernel)",
   "language": "python",
   "name": "python3"
  },
  "language_info": {
   "codemirror_mode": {
    "name": "ipython",
    "version": 3
   },
   "file_extension": ".py",
   "mimetype": "text/x-python",
   "name": "python",
   "nbconvert_exporter": "python",
   "pygments_lexer": "ipython3",
   "version": "3.9.7"
  }
 },
 "nbformat": 4,
 "nbformat_minor": 5
}
